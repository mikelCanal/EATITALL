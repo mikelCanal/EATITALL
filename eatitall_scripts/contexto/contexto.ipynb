{
 "cells": [
  {
   "cell_type": "markdown",
   "metadata": {},
   "source": [
    "### Diabetes\n",
    "\n",
    "La diabetes es una enfermedad crónica que se caracteriza por **niveles elevados de glucosa (azúcar) en la sangre**. Existen principalmente dos tipos de diabetes: tipo 1 y tipo 2, las cuales tienen diferentes causas, características y manejos."
   ]
  },
  {
   "cell_type": "markdown",
   "metadata": {},
   "source": [
    "#### Diabetes tipo 1\n",
    "**Causa**: La diabetes tipo 1 es una enfermedad autoinmune en la cual el sistema inmunitario ataca y destruye las células beta del páncreas, que son las responsables de producir insulina. La insulina es una hormona necesaria para que la glucosa entre en las células y se utilice como energía. La destrucción de estas células conduce a una deficiencia absoluta de insulina.\n",
    "\n",
    "**Inicio**: Generalmente se diagnostica en niños, adolescentes y adultos jóvenes, pero puede ocurrir a cualquier edad.\n",
    "\n",
    "**Tratamiento**: Los individuos con diabetes tipo 1 necesitan inyecciones de insulina o el uso de una bomba de insulina para sobrevivir, junto con el monitoreo constante de los niveles de glucosa en sangre.\n",
    "\n",
    "**Prevalencia**: Es menos común que la diabetes tipo 2."
   ]
  },
  {
   "cell_type": "markdown",
   "metadata": {},
   "source": [
    "#### Diabetes tipo 2\n",
    "**Causa**: La diabetes tipo 2 se desarrolla cuando el cuerpo se vuelve resistente a la insulina o cuando el páncreas no produce suficiente insulina. Esto puede ser el resultado de factores genéticos, el estilo de vida (como el sobrepeso, la obesidad, la falta de actividad física) y factores ambientales.\n",
    "\n",
    "**Inicio**: Aunque tradicionalmente se diagnosticaba en adultos mayores, ahora se está viendo cada vez más en jóvenes, incluso en niños, debido a tasas crecientes de obesidad.\n",
    "\n",
    "**Tratamiento**: Se puede manejar con cambios en el estilo de vida, como la dieta y el ejercicio, medicamentos orales y, en algunos casos, también con insulina.\n",
    "\n",
    "**Prevalencia**: Es la forma más común de diabetes."
   ]
  },
  {
   "cell_type": "markdown",
   "metadata": {},
   "source": [
    "#### Insulina\n",
    "La insulina es una hormona producida por el páncreas, específicamente por las células beta de los islotes de Langerhans. **Su función principal es regular los niveles de glucosa en la sangre y facilitar su uso como fuente de energía para las células del cuerpo**. Tener poca insulina aumenta el nivel de glucosa en la sangre debido al papel fundamental que juega la insulina en el metabolismo de la glucosa. Aquí te explico cómo la falta de insulina o la insuficiencia de esta hormona lleva a niveles elevados de glucosa en la sangre:\n",
    "\n",
    "**Permite la entrada de glucosa a las células**: La insulina actúa como una llave que abre las \"puertas\" de las células para permitir que la glucosa entre en ellas desde el torrente sanguíneo. *Sin suficiente insulina, estas puertas permanecen cerradas, y la glucosa no puede entrar en las células para ser utilizada como energía. Esto resulta en la acumulación de glucosa en la sangre, conocida como **hiperglucemia***.\n",
    "\n",
    "**Inhibe la producción de glucosa del hígado**: Normalmente, la insulina también señala al hígado que reduzca su propia producción de glucosa cuando ya hay suficiente glucosa disponible en el torrente sanguíneo. Sin suficiente insulina, el hígado no recibe esta señal correctamente y continúa produciendo y liberando glucosa, lo que contribuye aún más a los niveles elevados de glucosa en la sangre.\n",
    "\n",
    "**Afecta la conversión de glucosa en energía**: Además de facilitar la entrada de glucosa en las células, la insulina es necesaria para que la glucosa se pueda convertir en energía dentro de las células. Sin insulina, este proceso se ve afectado, lo que significa que incluso si la glucosa logra entrar en algunas células, su conversión en energía es menos eficiente.\n",
    "\n",
    "**Incrementa la descomposición de las grasas**: La falta de insulina también puede llevar al cuerpo a descomponer más grasas como fuente alternativa de energía. Este proceso produce cuerpos cetónicos como subproducto, lo cual puede llevar a la cetosis o, en casos graves, a la cetoacidosis diabética, una condición potencialmente mortal."
   ]
  },
  {
   "cell_type": "markdown",
   "metadata": {},
   "source": [
    "#### A1c o HbA1c\n",
    "\n",
    "- Es una hemoglobina que está químicamente unida a la glucosa. \n",
    "-  La prueba de A1c muestra el promedio de los niveles de glucosa en la sangre de una persona durante los últimos 2 a 3 meses.\n",
    "- La hemoglobina es una proteína en los glóbulos rojos que transporta oxígeno desde los pulmones a los tejidos del cuerpo y ayuda a llevar el dióxido de carbono de vuelta a los pulmones para ser exhalado. **La glucosa en la sangre se une a la hemoglobina** a través de un proceso llamado glicosilación; la cantidad de glucosa que se ha unido a la hemoglobina refleja el nivel promedio de glucosa en la sangre durante la vida útil de un glóbulo rojo, que es aproximadamente de 120 días.\n",
    "\n",
    "Existen varias formas de hemoglobina, las cuales varían según la etapa de desarrollo del individuo (fetal o adulto) y las variaciones genéticas. Las principales formas de hemoglobina son:\n",
    "- Hemoglobina A (HbA): Es la forma más común de hemoglobina encontrada en adultos. Compuesta por dos cadenas alfa y dos cadenas beta (α2β2), constituye alrededor del 97% al 98% de la hemoglobina en adultos.\n",
    "- Hemoglobina A2 (HbA2): Es una forma menor de hemoglobina en adultos, compuesta por dos cadenas alfa y dos cadenas delta (α2δ2). Normalmente constituye aproximadamente el 2% al 3% de la hemoglobina en adultos.\n",
    "- Hemoglobina F (HbF): También conocida como hemoglobina fetal, esta forma está compuesta por dos cadenas alfa y dos cadenas gamma (α2γ2). La HbF es la principal hemoglobina producida por el feto durante el embarazo, y su concentración disminuye después del nacimiento, constituyendo menos del 1% de la hemoglobina total en la mayoría de los adultos sanos. Sin embargo, sus niveles pueden ser más altos en ciertas condiciones patológicas.\n",
    "\n",
    "Existen muchas otras variantes de hemoglobina, pero son menos comunes. Estas variantes pueden influir en la afinidad de la hemoglobina por el oxígeno y tener implicaciones clínicas, desde efectos benignos hasta enfermedades significativas como las hemoglobinopatías. Las hemoglobinopatías son un grupo de trastornos hereditarios que incluyen anemia falciforme y talasemia, entre otros, y se caracterizan por la producción anormal de hemoglobina.\n",
    "\n",
    "El término **\"HbA1c\" se utiliza específicamente para describir la hemoglobina que ha sido modificada por la glucosa**, y esta modificación es un indicador del control de la glucemia a lo largo del tiempo. El \"1c\" en \"HbA1c\" distingue esta forma glicosilada específica de otras fracciones, como la HbA1a y HbA1b, que también son formas de hemoglobina glicosilada pero difieren en cómo y con qué se glicosilan"
   ]
  }
 ],
 "metadata": {
  "language_info": {
   "name": "python"
  }
 },
 "nbformat": 4,
 "nbformat_minor": 2
}
