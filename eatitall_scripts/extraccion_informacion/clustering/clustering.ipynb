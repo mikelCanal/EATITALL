{
 "cells": [
  {
   "cell_type": "markdown",
   "metadata": {},
   "source": [
    "## KMeans"
   ]
  },
  {
   "cell_type": "code",
   "execution_count": 1,
   "metadata": {},
   "outputs": [],
   "source": [
    "import sys\n",
    "sys.path.insert(1, '/home/eatitall_scripts')\n",
    "sys.path.insert(1, '/home/root/pctobs/lib/python3.8/site-packages')\n",
    "import pandas as pd\n",
    "from extraccion_informacion.clustering import clustering\n"
   ]
  },
  {
   "cell_type": "code",
   "execution_count": 2,
   "metadata": {},
   "outputs": [],
   "source": [
    "import numpy as np"
   ]
  },
  {
   "cell_type": "code",
   "execution_count": 5,
   "metadata": {},
   "outputs": [],
   "source": [
    "csv_path='./../../archivos/datos_con_10_ejemplos_reglas_y_extraccion_entidades.csv'"
   ]
  },
  {
   "cell_type": "code",
   "execution_count": 6,
   "metadata": {},
   "outputs": [],
   "source": [
    "# Cargamos el archivo CSV\n",
    "df = pd.read_csv(csv_path)"
   ]
  },
  {
   "cell_type": "code",
   "execution_count": 7,
   "metadata": {},
   "outputs": [],
   "source": [
    "# df_subsubconjunto=df[['edad','tg','estatina','tas','tad','fg',\n",
    "#                     'diabetes_con_cv','diabetes_con_hipertension',\n",
    "#                     'diabetes_con_lipidos','diabetes_con_estatinas','diabetes_mayores_de_65',\n",
    "#                     'diabetes_mayores_de_65_y_salud_saludable','diabetes_mayores_de_65_y_salud_compleja',\n",
    "#                     'diabetes_mayores_de_65_y_salud_muy_compleja']]"
   ]
  },
  {
   "cell_type": "code",
   "execution_count": 8,
   "metadata": {},
   "outputs": [],
   "source": [
    "#Definimos parámetros KMeans\n",
    "n_clusters=4\n",
    "init='k-means++'\n",
    "n_init = 10\n",
    "max_iter=500\n",
    "tol=0.0001\n",
    "random_state= 111\n",
    "algorithm='elkan'"
   ]
  },
  {
   "cell_type": "code",
   "execution_count": 11,
   "metadata": {},
   "outputs": [
    {
     "data": {
      "text/html": [
       "<div>\n",
       "<style scoped>\n",
       "    .dataframe tbody tr th:only-of-type {\n",
       "        vertical-align: middle;\n",
       "    }\n",
       "\n",
       "    .dataframe tbody tr th {\n",
       "        vertical-align: top;\n",
       "    }\n",
       "\n",
       "    .dataframe thead th {\n",
       "        text-align: right;\n",
       "    }\n",
       "</style>\n",
       "<table border=\"1\" class=\"dataframe\">\n",
       "  <thead>\n",
       "    <tr style=\"text-align: right;\">\n",
       "      <th></th>\n",
       "      <th>Unnamed: 0</th>\n",
       "      <th>record_id</th>\n",
       "      <th>prevencion</th>\n",
       "      <th>sexo</th>\n",
       "      <th>f_nac</th>\n",
       "      <th>edad</th>\n",
       "      <th>f_dm</th>\n",
       "      <th>evoldm</th>\n",
       "      <th>cisq</th>\n",
       "      <th>ins_cardiaca</th>\n",
       "      <th>...</th>\n",
       "      <th>diabetes</th>\n",
       "      <th>diabetes_con_cv</th>\n",
       "      <th>diabetes_con_hipertension</th>\n",
       "      <th>diabetes_con_lipidos</th>\n",
       "      <th>diabetes_con_estatinas</th>\n",
       "      <th>diabetes_mayores_de_65</th>\n",
       "      <th>diabetes_mayores_de_65_y_salud_saludable</th>\n",
       "      <th>diabetes_mayores_de_65_y_salud_compleja</th>\n",
       "      <th>diabetes_mayores_de_65_y_salud_muy_compleja</th>\n",
       "      <th>alimentos_encontrados</th>\n",
       "    </tr>\n",
       "  </thead>\n",
       "  <tbody>\n",
       "    <tr>\n",
       "      <th>0</th>\n",
       "      <td>1</td>\n",
       "      <td>56</td>\n",
       "      <td>1.0</td>\n",
       "      <td>1</td>\n",
       "      <td>1952-01-20</td>\n",
       "      <td>71.0</td>\n",
       "      <td>2002-01-20</td>\n",
       "      <td>20.0</td>\n",
       "      <td>0</td>\n",
       "      <td>0.0</td>\n",
       "      <td>...</td>\n",
       "      <td>1</td>\n",
       "      <td>0</td>\n",
       "      <td>0</td>\n",
       "      <td>1</td>\n",
       "      <td>1</td>\n",
       "      <td>1</td>\n",
       "      <td>0</td>\n",
       "      <td>0</td>\n",
       "      <td>0</td>\n",
       "      <td>carbohidratos refinados, pan blanco, carbohidr...</td>\n",
       "    </tr>\n",
       "    <tr>\n",
       "      <th>1</th>\n",
       "      <td>2</td>\n",
       "      <td>213</td>\n",
       "      <td>1.0</td>\n",
       "      <td>1</td>\n",
       "      <td>1960-06-08</td>\n",
       "      <td>63.0</td>\n",
       "      <td>2011-06-08</td>\n",
       "      <td>11.0</td>\n",
       "      <td>0</td>\n",
       "      <td>0.0</td>\n",
       "      <td>...</td>\n",
       "      <td>1</td>\n",
       "      <td>0</td>\n",
       "      <td>0</td>\n",
       "      <td>1</td>\n",
       "      <td>0</td>\n",
       "      <td>0</td>\n",
       "      <td>0</td>\n",
       "      <td>0</td>\n",
       "      <td>0</td>\n",
       "      <td>carbohidratos, carbohidratos</td>\n",
       "    </tr>\n",
       "    <tr>\n",
       "      <th>2</th>\n",
       "      <td>3</td>\n",
       "      <td>139-95</td>\n",
       "      <td>1.0</td>\n",
       "      <td>0</td>\n",
       "      <td>1947-09-24</td>\n",
       "      <td>75.0</td>\n",
       "      <td>2013-06-15</td>\n",
       "      <td>8.0</td>\n",
       "      <td>0</td>\n",
       "      <td>0.0</td>\n",
       "      <td>...</td>\n",
       "      <td>1</td>\n",
       "      <td>0</td>\n",
       "      <td>1</td>\n",
       "      <td>0</td>\n",
       "      <td>0</td>\n",
       "      <td>1</td>\n",
       "      <td>0</td>\n",
       "      <td>0</td>\n",
       "      <td>1</td>\n",
       "      <td>agua, bebidas azucaradas</td>\n",
       "    </tr>\n",
       "    <tr>\n",
       "      <th>3</th>\n",
       "      <td>4</td>\n",
       "      <td>143-14</td>\n",
       "      <td>1.0</td>\n",
       "      <td>0</td>\n",
       "      <td>1985-05-31</td>\n",
       "      <td>37.0</td>\n",
       "      <td>2012-03-06</td>\n",
       "      <td>10.0</td>\n",
       "      <td>0</td>\n",
       "      <td>0.0</td>\n",
       "      <td>...</td>\n",
       "      <td>1</td>\n",
       "      <td>0</td>\n",
       "      <td>0</td>\n",
       "      <td>1</td>\n",
       "      <td>1</td>\n",
       "      <td>0</td>\n",
       "      <td>0</td>\n",
       "      <td>0</td>\n",
       "      <td>0</td>\n",
       "      <td>grasas, aceite de oliva, aguacates, frutos sec...</td>\n",
       "    </tr>\n",
       "    <tr>\n",
       "      <th>4</th>\n",
       "      <td>5</td>\n",
       "      <td>143-17</td>\n",
       "      <td>1.0</td>\n",
       "      <td>0</td>\n",
       "      <td>1966-12-10</td>\n",
       "      <td>56.0</td>\n",
       "      <td>2000-03-09</td>\n",
       "      <td>22.0</td>\n",
       "      <td>0</td>\n",
       "      <td>0.0</td>\n",
       "      <td>...</td>\n",
       "      <td>1</td>\n",
       "      <td>0</td>\n",
       "      <td>1</td>\n",
       "      <td>1</td>\n",
       "      <td>1</td>\n",
       "      <td>0</td>\n",
       "      <td>0</td>\n",
       "      <td>0</td>\n",
       "      <td>0</td>\n",
       "      <td>carbohidratos</td>\n",
       "    </tr>\n",
       "  </tbody>\n",
       "</table>\n",
       "<p>5 rows × 386 columns</p>\n",
       "</div>"
      ],
      "text/plain": [
       "   Unnamed: 0 record_id  prevencion  sexo       f_nac  edad        f_dm  \\\n",
       "0           1        56         1.0     1  1952-01-20  71.0  2002-01-20   \n",
       "1           2       213         1.0     1  1960-06-08  63.0  2011-06-08   \n",
       "2           3    139-95         1.0     0  1947-09-24  75.0  2013-06-15   \n",
       "3           4    143-14         1.0     0  1985-05-31  37.0  2012-03-06   \n",
       "4           5    143-17         1.0     0  1966-12-10  56.0  2000-03-09   \n",
       "\n",
       "   evoldm  cisq  ins_cardiaca  ...  diabetes  diabetes_con_cv  \\\n",
       "0    20.0     0           0.0  ...         1                0   \n",
       "1    11.0     0           0.0  ...         1                0   \n",
       "2     8.0     0           0.0  ...         1                0   \n",
       "3    10.0     0           0.0  ...         1                0   \n",
       "4    22.0     0           0.0  ...         1                0   \n",
       "\n",
       "   diabetes_con_hipertension  diabetes_con_lipidos  diabetes_con_estatinas  \\\n",
       "0                          0                     1                       1   \n",
       "1                          0                     1                       0   \n",
       "2                          1                     0                       0   \n",
       "3                          0                     1                       1   \n",
       "4                          1                     1                       1   \n",
       "\n",
       "   diabetes_mayores_de_65 diabetes_mayores_de_65_y_salud_saludable  \\\n",
       "0                       1                                        0   \n",
       "1                       0                                        0   \n",
       "2                       1                                        0   \n",
       "3                       0                                        0   \n",
       "4                       0                                        0   \n",
       "\n",
       "   diabetes_mayores_de_65_y_salud_compleja  \\\n",
       "0                                        0   \n",
       "1                                        0   \n",
       "2                                        0   \n",
       "3                                        0   \n",
       "4                                        0   \n",
       "\n",
       "   diabetes_mayores_de_65_y_salud_muy_compleja  \\\n",
       "0                                            0   \n",
       "1                                            0   \n",
       "2                                            1   \n",
       "3                                            0   \n",
       "4                                            0   \n",
       "\n",
       "                               alimentos_encontrados  \n",
       "0  carbohidratos refinados, pan blanco, carbohidr...  \n",
       "1                       carbohidratos, carbohidratos  \n",
       "2                           agua, bebidas azucaradas  \n",
       "3  grasas, aceite de oliva, aguacates, frutos sec...  \n",
       "4                                      carbohidratos  \n",
       "\n",
       "[5 rows x 386 columns]"
      ]
     },
     "execution_count": 11,
     "metadata": {},
     "output_type": "execute_result"
    }
   ],
   "source": [
    "df.head()"
   ]
  },
  {
   "cell_type": "code",
   "execution_count": 12,
   "metadata": {},
   "outputs": [
    {
     "name": "stdout",
     "output_type": "stream",
     "text": [
      "Hay valores NaN en el DataFrame.\n",
      "\n",
      "Número de NaN por columna:\n",
      "Unnamed: 0                                     0\n",
      "record_id                                      0\n",
      "prevencion                                     0\n",
      "sexo                                           0\n",
      "f_nac                                          0\n",
      "                                              ..\n",
      "diabetes_mayores_de_65                         0\n",
      "diabetes_mayores_de_65_y_salud_saludable       0\n",
      "diabetes_mayores_de_65_y_salud_compleja        0\n",
      "diabetes_mayores_de_65_y_salud_muy_compleja    0\n",
      "alimentos_encontrados                          1\n",
      "Length: 386, dtype: int64\n"
     ]
    }
   ],
   "source": [
    "import pandas as pd\n",
    "\n",
    "# Ajustar la configuración de Pandas para mostrar todas las columnas\n",
    "pd.set_option('display.max_columns', None)\n",
    "pd.set_option('display.width', 1000)  # Puedes ajustar el ancho según sea necesario\n",
    "\n",
    "# Suponiendo que 'df' es tu DataFrame\n",
    "hay_nans = df.isnull().values.any()\n",
    "\n",
    "if hay_nans:\n",
    "    print(\"Hay valores NaN en el DataFrame.\")\n",
    "else:\n",
    "    print(\"No hay valores NaN en el DataFrame.\")\n",
    "\n",
    "# Mostrar cuántos NaN hay por columna\n",
    "nans_por_columna = df.isnull().sum()\n",
    "print(\"\\nNúmero de NaN por columna:\")\n",
    "print(nans_por_columna)\n",
    "\n"
   ]
  },
  {
   "cell_type": "markdown",
   "metadata": {},
   "source": [
    "# Procesar strings"
   ]
  },
  {
   "cell_type": "code",
   "execution_count": 14,
   "metadata": {},
   "outputs": [],
   "source": [
    "def listar_columnas_string(df):\n",
    "    columnas_string = [col for col in df.columns if df[col].dtype == 'object']\n",
    "    return columnas_string"
   ]
  },
  {
   "cell_type": "code",
   "execution_count": 16,
   "metadata": {},
   "outputs": [
    {
     "data": {
      "text/plain": [
       "['record_id',\n",
       " 'f_nac',\n",
       " 'f_dm',\n",
       " 'f_inicio',\n",
       " 'o_hipolipemiante',\n",
       " 'f_visita_3_6meses',\n",
       " 'motivo_s_3_6meses',\n",
       " 'f_mace_d_3_6meses',\n",
       " 'f_muerte_diferido_3_6meses',\n",
       " 'fg_30_3_6_meses',\n",
       " 'fg_60_3_6_meses',\n",
       " 'cac30_3_6_meses',\n",
       " 'cac300_3_6_meses',\n",
       " 'fg_30_6_12meses',\n",
       " 'fg_60_6_12meses',\n",
       " 'cac30_6_12meses',\n",
       " 'cac300_6_12meses',\n",
       " 'fg_30_12_24meses',\n",
       " 'fg_60_12_24meses',\n",
       " 'cac30_12_24meses',\n",
       " 'cac300_12_24meses',\n",
       " 'fg_30_24_36meses',\n",
       " 'fg_60_24_36meses',\n",
       " 'cac30_24_36meses',\n",
       " 'cac300_24_36meses',\n",
       " 'observaciones',\n",
       " 'alimentos_encontrados']"
      ]
     },
     "execution_count": 16,
     "metadata": {},
     "output_type": "execute_result"
    }
   ],
   "source": [
    "listar_columnas_string(df)"
   ]
  },
  {
   "cell_type": "code",
   "execution_count": 17,
   "metadata": {},
   "outputs": [],
   "source": [
    "def listar_columnas_si_no(df):\n",
    "    columnas_si_no = []\n",
    "    for col in df.columns:\n",
    "        if df[col].dtype == 'object':  # Verificar si la columna es de tipo object (potencialmente string)\n",
    "            valores_unicos = df[col].dropna().unique()  # Obtener valores únicos sin contar NaN\n",
    "            if set(valores_unicos) <= {'Sí', 'No'}:  # Verificar si todos los valores son 'Sí' o 'No'\n",
    "                columnas_si_no.append(col)\n",
    "    return columnas_si_no"
   ]
  },
  {
   "cell_type": "code",
   "execution_count": 19,
   "metadata": {},
   "outputs": [
    {
     "data": {
      "text/plain": [
       "['fg_30_3_6_meses',\n",
       " 'fg_60_3_6_meses',\n",
       " 'cac30_3_6_meses',\n",
       " 'cac300_3_6_meses',\n",
       " 'fg_30_6_12meses',\n",
       " 'fg_60_6_12meses',\n",
       " 'cac30_6_12meses',\n",
       " 'cac300_6_12meses',\n",
       " 'fg_30_12_24meses',\n",
       " 'fg_60_12_24meses',\n",
       " 'cac30_12_24meses',\n",
       " 'cac300_12_24meses',\n",
       " 'fg_30_24_36meses',\n",
       " 'fg_60_24_36meses',\n",
       " 'cac30_24_36meses',\n",
       " 'cac300_24_36meses']"
      ]
     },
     "execution_count": 19,
     "metadata": {},
     "output_type": "execute_result"
    }
   ],
   "source": [
    "listar_columnas_si_no(df)"
   ]
  },
  {
   "cell_type": "code",
   "execution_count": 20,
   "metadata": {},
   "outputs": [],
   "source": [
    "def convertir_si_no_a_dummy(df, columnas):\n",
    "    for columna in columnas:\n",
    "        df[columna] = df[columna].map({'Si': 1, 'No': 0})\n",
    "    return df\n",
    "\n",
    "columnas=listar_columnas_si_no(df)\n",
    "df_dummies=convertir_si_no_a_dummy(df,columnas)"
   ]
  },
  {
   "cell_type": "markdown",
   "metadata": {},
   "source": [
    "### Eliminamos las fechas y las observaciones de los médicos"
   ]
  },
  {
   "cell_type": "code",
   "execution_count": 22,
   "metadata": {},
   "outputs": [],
   "source": [
    "def eliminar_elementos(lista_principal, elementos_a_eliminar):\n",
    "    \"\"\"\n",
    "    Devuelve una nueva lista que contiene los elementos de 'lista_principal',\n",
    "    excluyendo los elementos que se encuentran en 'elementos_a_eliminar'.\n",
    "\n",
    "    Parámetros:\n",
    "    lista_principal: Lista de elementos de la cual eliminar elementos.\n",
    "    elementos_a_eliminar: Lista de elementos a eliminar de la lista principal.\n",
    "    \"\"\"\n",
    "    return [elemento for elemento in lista_principal if elemento not in elementos_a_eliminar]"
   ]
  },
  {
   "cell_type": "code",
   "execution_count": 23,
   "metadata": {},
   "outputs": [],
   "source": [
    "lista_principal=listar_columnas_string(df)\n",
    "elementos_a_eliminar=listar_columnas_si_no(df)\n",
    "variables_string_no_bol=eliminar_elementos(lista_principal, elementos_a_eliminar)\n",
    "\n",
    "df_con_imc_con_reglas_con_dummy_sin_strings=df_dummies\n",
    "df_con_imc_con_reglas_con_dummy_sin_strings.drop(variables_string_no_bol, axis=1, inplace=True)"
   ]
  },
  {
   "cell_type": "markdown",
   "metadata": {},
   "source": [
    "## Clustering"
   ]
  },
  {
   "cell_type": "code",
   "execution_count": 28,
   "metadata": {},
   "outputs": [
    {
     "ename": "ValueError",
     "evalue": "Input contains NaN, infinity or a value too large for dtype('float64').",
     "output_type": "error",
     "traceback": [
      "\u001b[0;31m---------------------------------------------------------------------------\u001b[0m",
      "\u001b[0;31mValueError\u001b[0m                                Traceback (most recent call last)",
      "Cell \u001b[0;32mIn[28], line 2\u001b[0m\n\u001b[1;32m      1\u001b[0m maxClusters\u001b[38;5;241m=\u001b[39m\u001b[38;5;241m15\u001b[39m\n\u001b[0;32m----> 2\u001b[0m inertia\u001b[38;5;241m=\u001b[39m\u001b[43mclustering\u001b[49m\u001b[38;5;241;43m.\u001b[39;49m\u001b[43minertia_of_kmeans\u001b[49m\u001b[43m(\u001b[49m\u001b[43mdf_con_imc_con_reglas_con_dummy_sin_strings\u001b[49m\u001b[43m,\u001b[49m\u001b[43mmaxClusters\u001b[49m\u001b[43m,\u001b[49m\u001b[43mn_clusters\u001b[49m\u001b[38;5;241;43m=\u001b[39;49m\u001b[38;5;241;43m4\u001b[39;49m\u001b[43m,\u001b[49m\u001b[43minit\u001b[49m\u001b[38;5;241;43m=\u001b[39;49m\u001b[38;5;124;43m'\u001b[39;49m\u001b[38;5;124;43mk-means++\u001b[39;49m\u001b[38;5;124;43m'\u001b[39;49m\u001b[43m,\u001b[49m\u001b[43mn_init\u001b[49m\u001b[43m \u001b[49m\u001b[38;5;241;43m=\u001b[39;49m\u001b[43m \u001b[49m\u001b[38;5;241;43m10\u001b[39;49m\u001b[43m,\u001b[49m\u001b[43mmax_iter\u001b[49m\u001b[38;5;241;43m=\u001b[39;49m\u001b[38;5;241;43m500\u001b[39;49m\u001b[43m,\u001b[49m\u001b[43mtol\u001b[49m\u001b[38;5;241;43m=\u001b[39;49m\u001b[38;5;241;43m0.0001\u001b[39;49m\u001b[43m,\u001b[49m\u001b[43mrandom_state\u001b[49m\u001b[38;5;241;43m=\u001b[39;49m\u001b[43m \u001b[49m\u001b[38;5;241;43m111\u001b[39;49m\u001b[43m,\u001b[49m\u001b[43malgorithm\u001b[49m\u001b[38;5;241;43m=\u001b[39;49m\u001b[38;5;124;43m'\u001b[39;49m\u001b[38;5;124;43melkan\u001b[39;49m\u001b[38;5;124;43m'\u001b[39;49m\u001b[43m)\u001b[49m\n",
      "File \u001b[0;32m/home/eatitall_scripts/extraccion_informacion/clustering/clustering.py:16\u001b[0m, in \u001b[0;36minertia_of_kmeans\u001b[0;34m(df, maxClusters, n_clusters, init, n_init, max_iter, tol, random_state, algorithm)\u001b[0m\n\u001b[1;32m     13\u001b[0m \u001b[38;5;28;01mfor\u001b[39;00m n \u001b[38;5;129;01min\u001b[39;00m \u001b[38;5;28mrange\u001b[39m(\u001b[38;5;241m1\u001b[39m , maxClusters):\n\u001b[1;32m     14\u001b[0m     algorithm \u001b[38;5;241m=\u001b[39m KMeans(n_clusters\u001b[38;5;241m=\u001b[39mn, init\u001b[38;5;241m=\u001b[39m\u001b[38;5;124m'\u001b[39m\u001b[38;5;124mk-means++\u001b[39m\u001b[38;5;124m'\u001b[39m, n_init\u001b[38;5;241m=\u001b[39m\u001b[38;5;241m10\u001b[39m, max_iter\u001b[38;5;241m=\u001b[39m\u001b[38;5;241m300\u001b[39m,\n\u001b[1;32m     15\u001b[0m                     tol\u001b[38;5;241m=\u001b[39m\u001b[38;5;241m0.0001\u001b[39m, random_state\u001b[38;5;241m=\u001b[39m\u001b[38;5;241m111\u001b[39m, algorithm\u001b[38;5;241m=\u001b[39m\u001b[38;5;124m'\u001b[39m\u001b[38;5;124melkan\u001b[39m\u001b[38;5;124m'\u001b[39m)\n\u001b[0;32m---> 16\u001b[0m     \u001b[43malgorithm\u001b[49m\u001b[38;5;241;43m.\u001b[39;49m\u001b[43mfit\u001b[49m\u001b[43m(\u001b[49m\u001b[43mdf\u001b[49m\u001b[43m)\u001b[49m\n\u001b[1;32m     17\u001b[0m     \u001b[38;5;66;03m# Almacena la inercia del modelo en la lista\u001b[39;00m\n\u001b[1;32m     18\u001b[0m     inertia\u001b[38;5;241m.\u001b[39mappend(algorithm\u001b[38;5;241m.\u001b[39minertia_)\n",
      "File \u001b[0;32m/home/root/pctobs/lib/python3.8/site-packages/sklearn/cluster/_kmeans.py:1139\u001b[0m, in \u001b[0;36mKMeans.fit\u001b[0;34m(self, X, y, sample_weight)\u001b[0m\n\u001b[1;32m   1113\u001b[0m \u001b[38;5;28;01mdef\u001b[39;00m \u001b[38;5;21mfit\u001b[39m(\u001b[38;5;28mself\u001b[39m, X, y\u001b[38;5;241m=\u001b[39m\u001b[38;5;28;01mNone\u001b[39;00m, sample_weight\u001b[38;5;241m=\u001b[39m\u001b[38;5;28;01mNone\u001b[39;00m):\n\u001b[1;32m   1114\u001b[0m \u001b[38;5;250m    \u001b[39m\u001b[38;5;124;03m\"\"\"Compute k-means clustering.\u001b[39;00m\n\u001b[1;32m   1115\u001b[0m \n\u001b[1;32m   1116\u001b[0m \u001b[38;5;124;03m    Parameters\u001b[39;00m\n\u001b[0;32m   (...)\u001b[0m\n\u001b[1;32m   1137\u001b[0m \u001b[38;5;124;03m        Fitted estimator.\u001b[39;00m\n\u001b[1;32m   1138\u001b[0m \u001b[38;5;124;03m    \"\"\"\u001b[39;00m\n\u001b[0;32m-> 1139\u001b[0m     X \u001b[38;5;241m=\u001b[39m \u001b[38;5;28;43mself\u001b[39;49m\u001b[38;5;241;43m.\u001b[39;49m\u001b[43m_validate_data\u001b[49m\u001b[43m(\u001b[49m\n\u001b[1;32m   1140\u001b[0m \u001b[43m        \u001b[49m\u001b[43mX\u001b[49m\u001b[43m,\u001b[49m\n\u001b[1;32m   1141\u001b[0m \u001b[43m        \u001b[49m\u001b[43maccept_sparse\u001b[49m\u001b[38;5;241;43m=\u001b[39;49m\u001b[38;5;124;43m\"\u001b[39;49m\u001b[38;5;124;43mcsr\u001b[39;49m\u001b[38;5;124;43m\"\u001b[39;49m\u001b[43m,\u001b[49m\n\u001b[1;32m   1142\u001b[0m \u001b[43m        \u001b[49m\u001b[43mdtype\u001b[49m\u001b[38;5;241;43m=\u001b[39;49m\u001b[43m[\u001b[49m\u001b[43mnp\u001b[49m\u001b[38;5;241;43m.\u001b[39;49m\u001b[43mfloat64\u001b[49m\u001b[43m,\u001b[49m\u001b[43m \u001b[49m\u001b[43mnp\u001b[49m\u001b[38;5;241;43m.\u001b[39;49m\u001b[43mfloat32\u001b[49m\u001b[43m]\u001b[49m\u001b[43m,\u001b[49m\n\u001b[1;32m   1143\u001b[0m \u001b[43m        \u001b[49m\u001b[43morder\u001b[49m\u001b[38;5;241;43m=\u001b[39;49m\u001b[38;5;124;43m\"\u001b[39;49m\u001b[38;5;124;43mC\u001b[39;49m\u001b[38;5;124;43m\"\u001b[39;49m\u001b[43m,\u001b[49m\n\u001b[1;32m   1144\u001b[0m \u001b[43m        \u001b[49m\u001b[43mcopy\u001b[49m\u001b[38;5;241;43m=\u001b[39;49m\u001b[38;5;28;43mself\u001b[39;49m\u001b[38;5;241;43m.\u001b[39;49m\u001b[43mcopy_x\u001b[49m\u001b[43m,\u001b[49m\n\u001b[1;32m   1145\u001b[0m \u001b[43m        \u001b[49m\u001b[43maccept_large_sparse\u001b[49m\u001b[38;5;241;43m=\u001b[39;49m\u001b[38;5;28;43;01mFalse\u001b[39;49;00m\u001b[43m,\u001b[49m\n\u001b[1;32m   1146\u001b[0m \u001b[43m    \u001b[49m\u001b[43m)\u001b[49m\n\u001b[1;32m   1148\u001b[0m     \u001b[38;5;28mself\u001b[39m\u001b[38;5;241m.\u001b[39m_check_params(X)\n\u001b[1;32m   1149\u001b[0m     random_state \u001b[38;5;241m=\u001b[39m check_random_state(\u001b[38;5;28mself\u001b[39m\u001b[38;5;241m.\u001b[39mrandom_state)\n",
      "File \u001b[0;32m/home/root/pctobs/lib/python3.8/site-packages/sklearn/base.py:557\u001b[0m, in \u001b[0;36mBaseEstimator._validate_data\u001b[0;34m(self, X, y, reset, validate_separately, **check_params)\u001b[0m\n\u001b[1;32m    555\u001b[0m     \u001b[38;5;28;01mraise\u001b[39;00m \u001b[38;5;167;01mValueError\u001b[39;00m(\u001b[38;5;124m\"\u001b[39m\u001b[38;5;124mValidation should be done on X, y or both.\u001b[39m\u001b[38;5;124m\"\u001b[39m)\n\u001b[1;32m    556\u001b[0m \u001b[38;5;28;01melif\u001b[39;00m \u001b[38;5;129;01mnot\u001b[39;00m no_val_X \u001b[38;5;129;01mand\u001b[39;00m no_val_y:\n\u001b[0;32m--> 557\u001b[0m     X \u001b[38;5;241m=\u001b[39m \u001b[43mcheck_array\u001b[49m\u001b[43m(\u001b[49m\u001b[43mX\u001b[49m\u001b[43m,\u001b[49m\u001b[43m \u001b[49m\u001b[38;5;241;43m*\u001b[39;49m\u001b[38;5;241;43m*\u001b[39;49m\u001b[43mcheck_params\u001b[49m\u001b[43m)\u001b[49m\n\u001b[1;32m    558\u001b[0m     out \u001b[38;5;241m=\u001b[39m X\n\u001b[1;32m    559\u001b[0m \u001b[38;5;28;01melif\u001b[39;00m no_val_X \u001b[38;5;129;01mand\u001b[39;00m \u001b[38;5;129;01mnot\u001b[39;00m no_val_y:\n",
      "File \u001b[0;32m/home/root/pctobs/lib/python3.8/site-packages/sklearn/utils/validation.py:792\u001b[0m, in \u001b[0;36mcheck_array\u001b[0;34m(array, accept_sparse, accept_large_sparse, dtype, order, copy, force_all_finite, ensure_2d, allow_nd, ensure_min_samples, ensure_min_features, estimator)\u001b[0m\n\u001b[1;32m    786\u001b[0m         \u001b[38;5;28;01mraise\u001b[39;00m \u001b[38;5;167;01mValueError\u001b[39;00m(\n\u001b[1;32m    787\u001b[0m             \u001b[38;5;124m\"\u001b[39m\u001b[38;5;124mFound array with dim \u001b[39m\u001b[38;5;132;01m%d\u001b[39;00m\u001b[38;5;124m. \u001b[39m\u001b[38;5;132;01m%s\u001b[39;00m\u001b[38;5;124m expected <= 2.\u001b[39m\u001b[38;5;124m\"\u001b[39m\n\u001b[1;32m    788\u001b[0m             \u001b[38;5;241m%\u001b[39m (array\u001b[38;5;241m.\u001b[39mndim, estimator_name)\n\u001b[1;32m    789\u001b[0m         )\n\u001b[1;32m    791\u001b[0m     \u001b[38;5;28;01mif\u001b[39;00m force_all_finite:\n\u001b[0;32m--> 792\u001b[0m         \u001b[43m_assert_all_finite\u001b[49m\u001b[43m(\u001b[49m\u001b[43marray\u001b[49m\u001b[43m,\u001b[49m\u001b[43m \u001b[49m\u001b[43mallow_nan\u001b[49m\u001b[38;5;241;43m=\u001b[39;49m\u001b[43mforce_all_finite\u001b[49m\u001b[43m \u001b[49m\u001b[38;5;241;43m==\u001b[39;49m\u001b[43m \u001b[49m\u001b[38;5;124;43m\"\u001b[39;49m\u001b[38;5;124;43mallow-nan\u001b[39;49m\u001b[38;5;124;43m\"\u001b[39;49m\u001b[43m)\u001b[49m\n\u001b[1;32m    794\u001b[0m \u001b[38;5;28;01mif\u001b[39;00m ensure_min_samples \u001b[38;5;241m>\u001b[39m \u001b[38;5;241m0\u001b[39m:\n\u001b[1;32m    795\u001b[0m     n_samples \u001b[38;5;241m=\u001b[39m _num_samples(array)\n",
      "File \u001b[0;32m/home/root/pctobs/lib/python3.8/site-packages/sklearn/utils/validation.py:114\u001b[0m, in \u001b[0;36m_assert_all_finite\u001b[0;34m(X, allow_nan, msg_dtype)\u001b[0m\n\u001b[1;32m    107\u001b[0m     \u001b[38;5;28;01mif\u001b[39;00m (\n\u001b[1;32m    108\u001b[0m         allow_nan\n\u001b[1;32m    109\u001b[0m         \u001b[38;5;129;01mand\u001b[39;00m np\u001b[38;5;241m.\u001b[39misinf(X)\u001b[38;5;241m.\u001b[39many()\n\u001b[1;32m    110\u001b[0m         \u001b[38;5;129;01mor\u001b[39;00m \u001b[38;5;129;01mnot\u001b[39;00m allow_nan\n\u001b[1;32m    111\u001b[0m         \u001b[38;5;129;01mand\u001b[39;00m \u001b[38;5;129;01mnot\u001b[39;00m np\u001b[38;5;241m.\u001b[39misfinite(X)\u001b[38;5;241m.\u001b[39mall()\n\u001b[1;32m    112\u001b[0m     ):\n\u001b[1;32m    113\u001b[0m         type_err \u001b[38;5;241m=\u001b[39m \u001b[38;5;124m\"\u001b[39m\u001b[38;5;124minfinity\u001b[39m\u001b[38;5;124m\"\u001b[39m \u001b[38;5;28;01mif\u001b[39;00m allow_nan \u001b[38;5;28;01melse\u001b[39;00m \u001b[38;5;124m\"\u001b[39m\u001b[38;5;124mNaN, infinity\u001b[39m\u001b[38;5;124m\"\u001b[39m\n\u001b[0;32m--> 114\u001b[0m         \u001b[38;5;28;01mraise\u001b[39;00m \u001b[38;5;167;01mValueError\u001b[39;00m(\n\u001b[1;32m    115\u001b[0m             msg_err\u001b[38;5;241m.\u001b[39mformat(\n\u001b[1;32m    116\u001b[0m                 type_err, msg_dtype \u001b[38;5;28;01mif\u001b[39;00m msg_dtype \u001b[38;5;129;01mis\u001b[39;00m \u001b[38;5;129;01mnot\u001b[39;00m \u001b[38;5;28;01mNone\u001b[39;00m \u001b[38;5;28;01melse\u001b[39;00m X\u001b[38;5;241m.\u001b[39mdtype\n\u001b[1;32m    117\u001b[0m             )\n\u001b[1;32m    118\u001b[0m         )\n\u001b[1;32m    119\u001b[0m \u001b[38;5;66;03m# for object dtype data, we only check for NaNs (GH-13254)\u001b[39;00m\n\u001b[1;32m    120\u001b[0m \u001b[38;5;28;01melif\u001b[39;00m X\u001b[38;5;241m.\u001b[39mdtype \u001b[38;5;241m==\u001b[39m np\u001b[38;5;241m.\u001b[39mdtype(\u001b[38;5;124m\"\u001b[39m\u001b[38;5;124mobject\u001b[39m\u001b[38;5;124m\"\u001b[39m) \u001b[38;5;129;01mand\u001b[39;00m \u001b[38;5;129;01mnot\u001b[39;00m allow_nan:\n",
      "\u001b[0;31mValueError\u001b[0m: Input contains NaN, infinity or a value too large for dtype('float64')."
     ]
    }
   ],
   "source": [
    "maxClusters=15\n",
    "inertia=clustering.inertia_of_kmeans(df_con_imc_con_reglas_con_dummy_sin_strings,maxClusters,n_clusters=4,init='k-means++',n_init = 10,max_iter=500,tol=0.0001,random_state= 111,algorithm='elkan')"
   ]
  },
  {
   "cell_type": "code",
   "execution_count": null,
   "metadata": {},
   "outputs": [],
   "source": []
  },
  {
   "cell_type": "code",
   "execution_count": null,
   "metadata": {},
   "outputs": [],
   "source": []
  },
  {
   "cell_type": "code",
   "execution_count": null,
   "metadata": {},
   "outputs": [],
   "source": []
  },
  {
   "cell_type": "code",
   "execution_count": null,
   "metadata": {},
   "outputs": [],
   "source": []
  },
  {
   "cell_type": "code",
   "execution_count": null,
   "metadata": {},
   "outputs": [],
   "source": []
  },
  {
   "cell_type": "code",
   "execution_count": null,
   "metadata": {},
   "outputs": [],
   "source": []
  }
 ],
 "metadata": {
  "kernelspec": {
   "display_name": "Python 3",
   "language": "python",
   "name": "python3"
  },
  "language_info": {
   "codemirror_mode": {
    "name": "ipython",
    "version": 3
   },
   "file_extension": ".py",
   "mimetype": "text/x-python",
   "name": "python",
   "nbconvert_exporter": "python",
   "pygments_lexer": "ipython3",
   "version": "3.8.17"
  }
 },
 "nbformat": 4,
 "nbformat_minor": 2
}
