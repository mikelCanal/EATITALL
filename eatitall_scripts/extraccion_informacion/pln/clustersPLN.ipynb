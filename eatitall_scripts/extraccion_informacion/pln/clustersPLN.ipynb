{
 "cells": [
  {
   "cell_type": "code",
   "execution_count": 13,
   "metadata": {},
   "outputs": [],
   "source": [
    "import sys\n",
    "sys.path.insert(1, '/home/eatitall_scripts')\n",
    "sys.path.insert(1, '/home/root/pctobs/lib/python3.8/site-packages')\n",
    "import numpy as np\n",
    "import pandas as pd\n",
    "import nltk\n",
    "import pandas as pd\n",
    "from sklearn.feature_extraction.text import TfidfVectorizer\n",
    "from nltk.stem import WordNetLemmatizer\n",
    "from sklearn.cluster import KMeans\n",
    "from nltk.corpus import stopwords\n",
    "from nltk.tokenize import word_tokenize\n",
    "import re"
   ]
  },
  {
   "cell_type": "code",
   "execution_count": 4,
   "metadata": {},
   "outputs": [],
   "source": [
    "# Cargamos los NOMBRES de los paths\n",
    "data_path='./../../archivos/datos_con_10_ejemplos_reglas_y_extraccion_entidades.csv'\n",
    "\n",
    "# Cargamos los datos\n",
    "df = pd.read_csv(data_path)"
   ]
  },
  {
   "cell_type": "code",
   "execution_count": 19,
   "metadata": {},
   "outputs": [
    {
     "data": {
      "text/plain": [
       "['carbohidratos refinados, pan blanco, carbohidratos complejos, avena, quinoa, legumbres',\n",
       " 'carbohidratos, carbohidratos',\n",
       " 'agua, bebidas azucaradas',\n",
       " 'grasas, aceite de oliva, aguacates, frutos secos, grasas',\n",
       " 'carbohidratos',\n",
       " 'bebidas azucaradas',\n",
       " 'carbohidratos simples, vegetales',\n",
       " 'snacks ricos en carbohidratos complejos',\n",
       " nan,\n",
       " 'fruta fresca']"
      ]
     },
     "execution_count": 19,
     "metadata": {},
     "output_type": "execute_result"
    }
   ],
   "source": [
    "lista_alimentos=[]\n",
    "for element in df['alimentos_encontrados']:\n",
    "    lista_alimentos.append(element)\n",
    "lista_alimentos"
   ]
  },
  {
   "cell_type": "code",
   "execution_count": 14,
   "metadata": {},
   "outputs": [
    {
     "name": "stderr",
     "output_type": "stream",
     "text": [
      "[nltk_data] Downloading package stopwords to /root/nltk_data...\n",
      "[nltk_data]   Package stopwords is already up-to-date!\n",
      "[nltk_data] Downloading package wordnet to /root/nltk_data...\n",
      "[nltk_data]   Package wordnet is already up-to-date!\n"
     ]
    }
   ],
   "source": [
    "# Descargar recursos de NLTK\n",
    "nltk.download('stopwords')\n",
    "nltk.download('wordnet')\n",
    "\n",
    "def preprocess_text(text):\n",
    "    # Convertir a minúsculas\n",
    "    text = text.lower()\n",
    "    # Eliminar caracteres no alfabéticos\n",
    "    text = re.sub(r'[^a-z]', ' ', text)\n",
    "    # Tokenización\n",
    "    words = text.split()\n",
    "    # Eliminación de stopwords\n",
    "    words = [word for word in words if word not in stopwords.words('spanish')]\n",
    "    # Lematización\n",
    "    lemmatizer = WordNetLemmatizer()\n",
    "    words = [lemmatizer.lemmatize(word) for word in words]\n",
    "    return ' '.join(words)"
   ]
  },
  {
   "cell_type": "code",
   "execution_count": 20,
   "metadata": {},
   "outputs": [],
   "source": [
    "documents = lista_alimentos[:8]\n",
    "\n",
    "vectorizer = TfidfVectorizer()\n",
    "X = vectorizer.fit_transform([preprocess_text(doc) for doc in documents])\n",
    "\n",
    "from sklearn.cluster import DBSCAN\n",
    "\n",
    "# Aplicar DBSCAN\n",
    "dbscan = DBSCAN(eps=1.25, min_samples=2)\n",
    "clusters = dbscan.fit_predict(X)\n"
   ]
  },
  {
   "cell_type": "code",
   "execution_count": 21,
   "metadata": {},
   "outputs": [
    {
     "name": "stdout",
     "output_type": "stream",
     "text": [
      "Número estimado de clusters: 2\n",
      "Número estimado de puntos de ruido: 1\n",
      "\n",
      "Cluster 0\n",
      " - carbohidratos refinados, pan blanco, carbohidratos complejos, avena, quinoa, legumbres\n",
      " - carbohidratos, carbohidratos\n",
      " - carbohidratos\n",
      " - carbohidratos simples, vegetales\n",
      " - snacks ricos en carbohidratos complejos\n",
      "\n",
      "Cluster 1\n",
      " - agua, bebidas azucaradas\n",
      " - bebidas azucaradas\n"
     ]
    }
   ],
   "source": [
    "# Número de clusters (excluyendo el ruido)\n",
    "n_clusters_ = len(set(clusters)) - (1 if -1 in clusters else 0)\n",
    "n_noise_ = list(clusters).count(-1)\n",
    "\n",
    "print(f'Número estimado de clusters: {n_clusters_}')\n",
    "print(f'Número estimado de puntos de ruido: {n_noise_}')\n",
    "\n",
    "# Ejemplo para imprimir los documentos de un cluster específico\n",
    "for cluster_id in np.unique(clusters):\n",
    "    if cluster_id == -1:\n",
    "        # Saltar el ruido\n",
    "        continue\n",
    "    print(f\"\\nCluster {cluster_id}\")\n",
    "    for i, label in enumerate(clusters):\n",
    "        if label == cluster_id:\n",
    "            print(f\" - {documents[i]}\")"
   ]
  },
  {
   "cell_type": "code",
   "execution_count": null,
   "metadata": {},
   "outputs": [],
   "source": []
  },
  {
   "cell_type": "code",
   "execution_count": null,
   "metadata": {},
   "outputs": [],
   "source": []
  }
 ],
 "metadata": {
  "kernelspec": {
   "display_name": "Python 3",
   "language": "python",
   "name": "python3"
  },
  "language_info": {
   "codemirror_mode": {
    "name": "ipython",
    "version": 3
   },
   "file_extension": ".py",
   "mimetype": "text/x-python",
   "name": "python",
   "nbconvert_exporter": "python",
   "pygments_lexer": "ipython3",
   "version": "3.8.17"
  }
 },
 "nbformat": 4,
 "nbformat_minor": 2
}
