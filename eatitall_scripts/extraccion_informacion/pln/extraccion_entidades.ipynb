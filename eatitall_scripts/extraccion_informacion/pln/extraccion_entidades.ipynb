{
 "cells": [
  {
   "cell_type": "code",
   "execution_count": 1,
   "metadata": {},
   "outputs": [],
   "source": [
    "# Queremos un algoritmo capaz de extraer entidades de:\n",
    "# - Medicación\n",
    "# - Recomendaciones dietéticas (indicaciones y contraindicaciones)"
   ]
  },
  {
   "cell_type": "code",
   "execution_count": 2,
   "metadata": {},
   "outputs": [],
   "source": [
    "import sys\n",
    "sys.path.insert(1, '/home/eatitall_scripts')\n",
    "sys.path.insert(1, '/home/root/pctobs/lib/python3.8/site-packages')\n",
    "import pandas as pd\n",
    "import json"
   ]
  },
  {
   "cell_type": "code",
   "execution_count": 3,
   "metadata": {},
   "outputs": [],
   "source": [
    "# Cargamos los NOMBRES de los paths\n",
    "data_path='./../../archivos/datos_con_10_ejemplos_reglas.csv'\n",
    "vocab_path='./../../archivos/vocab.json'\n",
    "\n",
    "# Cargamos los datos\n",
    "df = pd.read_csv(data_path)\n",
    "#Cargamos el vocabulario\n",
    "with open(vocab_path, 'r') as archivo:\n",
    "    vocab = json.load(archivo)\n"
   ]
  },
  {
   "cell_type": "code",
   "execution_count": 4,
   "metadata": {},
   "outputs": [],
   "source": [
    "#Vamos a buscar alimentos"
   ]
  },
  {
   "cell_type": "code",
   "execution_count": 5,
   "metadata": {},
   "outputs": [],
   "source": [
    "observaciones_tokenizadas=[]\n",
    "for observacion in df['observaciones']:\n",
    "    observaciones_tokenizadas.append(observacion.split())\n"
   ]
  },
  {
   "cell_type": "code",
   "execution_count": 6,
   "metadata": {},
   "outputs": [
    {
     "data": {
      "text/plain": [
       "[['El',\n",
       "  'paciente',\n",
       "  'ha',\n",
       "  'experimentado',\n",
       "  'mejoras',\n",
       "  'en',\n",
       "  'el',\n",
       "  'control',\n",
       "  'glucémico',\n",
       "  'bajo',\n",
       "  'tratamiento',\n",
       "  'con',\n",
       "  'Metformina,',\n",
       "  'lo',\n",
       "  'cual',\n",
       "  'se',\n",
       "  'ha',\n",
       "  'complementado',\n",
       "  'con',\n",
       "  'una',\n",
       "  'dieta',\n",
       "  'enfocada',\n",
       "  'en',\n",
       "  'la',\n",
       "  'reducción',\n",
       "  'de',\n",
       "  'carbohidratos',\n",
       "  'refinados.',\n",
       "  'La',\n",
       "  'evitación',\n",
       "  'de',\n",
       "  'pan',\n",
       "  'blanco',\n",
       "  'y',\n",
       "  'dulces,',\n",
       "  'junto',\n",
       "  'con',\n",
       "  'la',\n",
       "  'preferencia',\n",
       "  'por',\n",
       "  'carbohidratos',\n",
       "  'complejos',\n",
       "  'como',\n",
       "  'la',\n",
       "  'avena,',\n",
       "  'quinoa',\n",
       "  'y',\n",
       "  'legumbres,',\n",
       "  'son',\n",
       "  'cruciales',\n",
       "  'para',\n",
       "  'potenciar',\n",
       "  'los',\n",
       "  'efectos',\n",
       "  'beneficiosos',\n",
       "  'de',\n",
       "  'la',\n",
       "  'Metformina',\n",
       "  'y',\n",
       "  'mantener',\n",
       "  'una',\n",
       "  'estabilidad',\n",
       "  'en',\n",
       "  'los',\n",
       "  'niveles',\n",
       "  'de',\n",
       "  'glucosa',\n",
       "  'en',\n",
       "  'sangre.'],\n",
       " ['Con',\n",
       "  'el',\n",
       "  'régimen',\n",
       "  'de',\n",
       "  'insulina',\n",
       "  'basal-bolo,',\n",
       "  'es',\n",
       "  'vital',\n",
       "  'el',\n",
       "  'conteo',\n",
       "  'preciso',\n",
       "  'de',\n",
       "  'carbohidratos',\n",
       "  'para',\n",
       "  'ajustar',\n",
       "  'adecuadamente',\n",
       "  'las',\n",
       "  'dosis',\n",
       "  'de',\n",
       "  'insulina',\n",
       "  'prandial.',\n",
       "  'La',\n",
       "  'alimentación',\n",
       "  'debe',\n",
       "  'enfocarse',\n",
       "  'en',\n",
       "  'evitar',\n",
       "  'el',\n",
       "  'consumo',\n",
       "  'irregular',\n",
       "  'de',\n",
       "  'carbohidratos',\n",
       "  'y',\n",
       "  'planificar',\n",
       "  'comidas',\n",
       "  'equilibradas,',\n",
       "  'reduciendo',\n",
       "  'la',\n",
       "  'ingesta',\n",
       "  'de',\n",
       "  'alimentos',\n",
       "  'altos',\n",
       "  'en',\n",
       "  'azúcares',\n",
       "  'simples',\n",
       "  'para',\n",
       "  'evitar',\n",
       "  'desequilibrios',\n",
       "  'glucémicos.'],\n",
       " ['La',\n",
       "  'efectividad',\n",
       "  'del',\n",
       "  'tratamiento',\n",
       "  'con',\n",
       "  'inhibidores',\n",
       "  'de',\n",
       "  'SGLT2',\n",
       "  'se',\n",
       "  've',\n",
       "  'reforzada',\n",
       "  'por',\n",
       "  'mantener',\n",
       "  'una',\n",
       "  'hidratación',\n",
       "  'adecuada,',\n",
       "  'dada',\n",
       "  'la',\n",
       "  'tendencia',\n",
       "  'a',\n",
       "  'la',\n",
       "  'deshidratación',\n",
       "  'asociada',\n",
       "  'con',\n",
       "  'estos',\n",
       "  'medicamentos.',\n",
       "  'Se',\n",
       "  'enfatiza',\n",
       "  'la',\n",
       "  'importancia',\n",
       "  'de',\n",
       "  'beber',\n",
       "  'suficiente',\n",
       "  'agua',\n",
       "  'y',\n",
       "  'limitar',\n",
       "  'el',\n",
       "  'consumo',\n",
       "  'de',\n",
       "  'bebidas',\n",
       "  'azucaradas',\n",
       "  'para',\n",
       "  'apoyar',\n",
       "  'el',\n",
       "  'control',\n",
       "  'glucémico',\n",
       "  'y',\n",
       "  'la',\n",
       "  'salud',\n",
       "  'renal.'],\n",
       " ['El',\n",
       "  'tratamiento',\n",
       "  'con',\n",
       "  'agonistas',\n",
       "  'de',\n",
       "  'GLP-1,',\n",
       "  'que',\n",
       "  'mejora',\n",
       "  'el',\n",
       "  'apetito',\n",
       "  'y',\n",
       "  'promueve',\n",
       "  'la',\n",
       "  'pérdida',\n",
       "  'de',\n",
       "  'peso,',\n",
       "  'se',\n",
       "  'optimiza',\n",
       "  'con',\n",
       "  'una',\n",
       "  'dieta',\n",
       "  'baja',\n",
       "  'en',\n",
       "  'grasas',\n",
       "  'saturadas.',\n",
       "  'Se',\n",
       "  'recomienda',\n",
       "  'incluir',\n",
       "  'alimentos',\n",
       "  'como',\n",
       "  'el',\n",
       "  'aceite',\n",
       "  'de',\n",
       "  'oliva,',\n",
       "  'aguacates',\n",
       "  'y',\n",
       "  'frutos',\n",
       "  'secos,',\n",
       "  'que',\n",
       "  'aportan',\n",
       "  'grasas',\n",
       "  'saludables',\n",
       "  'y',\n",
       "  'contribuyen',\n",
       "  'a',\n",
       "  'un',\n",
       "  'mejor',\n",
       "  'manejo',\n",
       "  'metabólico.'],\n",
       " ['Al',\n",
       "  'estar',\n",
       "  'en',\n",
       "  'tratamiento',\n",
       "  'con',\n",
       "  'Dapagliflozina,',\n",
       "  'se',\n",
       "  'incrementa',\n",
       "  'el',\n",
       "  'riesgo',\n",
       "  'de',\n",
       "  'infecciones',\n",
       "  'genitourinarias,',\n",
       "  'lo',\n",
       "  'cual',\n",
       "  'se',\n",
       "  'puede',\n",
       "  'manejar',\n",
       "  'con',\n",
       "  'una',\n",
       "  'dieta',\n",
       "  'rica',\n",
       "  'en',\n",
       "  'líquidos',\n",
       "  'y',\n",
       "  'un',\n",
       "  'consumo',\n",
       "  'moderado',\n",
       "  'de',\n",
       "  'azúcares',\n",
       "  'y',\n",
       "  'carbohidratos.',\n",
       "  'Esta',\n",
       "  'estrategia',\n",
       "  'dietética',\n",
       "  'ayuda',\n",
       "  'a',\n",
       "  'minimizar',\n",
       "  'el',\n",
       "  'riesgo',\n",
       "  'de',\n",
       "  'infecciones',\n",
       "  'y',\n",
       "  'apoya',\n",
       "  'la',\n",
       "  'eficacia',\n",
       "  'del',\n",
       "  'medicamento.'],\n",
       " ['La',\n",
       "  'asociación',\n",
       "  'del',\n",
       "  'tratamiento',\n",
       "  'con',\n",
       "  'Pioglitazona',\n",
       "  'con',\n",
       "  'el',\n",
       "  'aumento',\n",
       "  'de',\n",
       "  'peso',\n",
       "  'resalta',\n",
       "  'la',\n",
       "  'necesidad',\n",
       "  'de',\n",
       "  'una',\n",
       "  'dieta',\n",
       "  'equilibrada',\n",
       "  'y',\n",
       "  'baja',\n",
       "  'en',\n",
       "  'calorías.',\n",
       "  'Evitar',\n",
       "  'alimentos',\n",
       "  'procesados',\n",
       "  'y',\n",
       "  'bebidas',\n",
       "  'azucaradas',\n",
       "  'es',\n",
       "  'fundamental',\n",
       "  'para',\n",
       "  'controlar',\n",
       "  'el',\n",
       "  'aumento',\n",
       "  'de',\n",
       "  'peso',\n",
       "  'y',\n",
       "  'mantener',\n",
       "  'un',\n",
       "  'perfil',\n",
       "  'glucémico',\n",
       "  'estable.'],\n",
       " ['La',\n",
       "  'estabilidad',\n",
       "  'en',\n",
       "  'los',\n",
       "  'niveles',\n",
       "  'de',\n",
       "  'glucosa',\n",
       "  'lograda',\n",
       "  'con',\n",
       "  'los',\n",
       "  'inhibidores',\n",
       "  'de',\n",
       "  'la',\n",
       "  'DPP-4',\n",
       "  'se',\n",
       "  'complementa',\n",
       "  'con',\n",
       "  'una',\n",
       "  'dieta',\n",
       "  'rica',\n",
       "  'en',\n",
       "  'fibra',\n",
       "  'y',\n",
       "  'baja',\n",
       "  'en',\n",
       "  'carbohidratos',\n",
       "  'simples.',\n",
       "  'Incrementar',\n",
       "  'la',\n",
       "  'ingesta',\n",
       "  'de',\n",
       "  'vegetales,',\n",
       "  'especialmente',\n",
       "  'los',\n",
       "  'de',\n",
       "  'hoja',\n",
       "  'verde,',\n",
       "  'es',\n",
       "  'beneficioso',\n",
       "  'para',\n",
       "  'el',\n",
       "  'control',\n",
       "  'glucémico',\n",
       "  'y',\n",
       "  'la',\n",
       "  'salud',\n",
       "  'general.'],\n",
       " ['La',\n",
       "  'necesidad',\n",
       "  'de',\n",
       "  'ajustar',\n",
       "  'la',\n",
       "  'dosis',\n",
       "  'de',\n",
       "  'insulina',\n",
       "  'en',\n",
       "  'días',\n",
       "  'de',\n",
       "  'actividad',\n",
       "  'física',\n",
       "  'intensa',\n",
       "  'subraya',\n",
       "  'la',\n",
       "  'importancia',\n",
       "  'de',\n",
       "  'consumir',\n",
       "  'snacks',\n",
       "  'ricos',\n",
       "  'en',\n",
       "  'carbohidratos',\n",
       "  'complejos',\n",
       "  'antes',\n",
       "  'del',\n",
       "  'ejercicio.',\n",
       "  'Esto',\n",
       "  'ayuda',\n",
       "  'a',\n",
       "  'prevenir',\n",
       "  'hipoglucemias',\n",
       "  'y',\n",
       "  'asegura',\n",
       "  'un',\n",
       "  'suministro',\n",
       "  'energético',\n",
       "  'adecuado',\n",
       "  'durante',\n",
       "  'la',\n",
       "  'actividad',\n",
       "  'física.'],\n",
       " ['Con',\n",
       "  'el',\n",
       "  'tratamiento',\n",
       "  'de',\n",
       "  'Repaglinida,',\n",
       "  'es',\n",
       "  'esencial',\n",
       "  'no',\n",
       "  'omitir',\n",
       "  'comidas',\n",
       "  'para',\n",
       "  'evitar',\n",
       "  'hipoglucemias.',\n",
       "  'Adoptar',\n",
       "  'un',\n",
       "  'plan',\n",
       "  'de',\n",
       "  'alimentación',\n",
       "  'estructurado',\n",
       "  'que',\n",
       "  'incluya',\n",
       "  'snacks',\n",
       "  'saludables',\n",
       "  'entre',\n",
       "  'comidas',\n",
       "  'asegura',\n",
       "  'la',\n",
       "  'estabilidad',\n",
       "  'glucémica',\n",
       "  'y',\n",
       "  'apoya',\n",
       "  'la',\n",
       "  'eficacia',\n",
       "  'del',\n",
       "  'tratamiento.'],\n",
       " ['El',\n",
       "  'tratamiento',\n",
       "  'con',\n",
       "  'Sulfonylureas',\n",
       "  'exige',\n",
       "  'una',\n",
       "  'vigilancia',\n",
       "  'constante',\n",
       "  'de',\n",
       "  'los',\n",
       "  'síntomas',\n",
       "  'de',\n",
       "  'hipoglucemia.',\n",
       "  'Disponer',\n",
       "  'de',\n",
       "  'snacks',\n",
       "  'rápidos',\n",
       "  'y',\n",
       "  'saludables',\n",
       "  'ricos',\n",
       "  'en',\n",
       "  'glucosa,',\n",
       "  'como',\n",
       "  'fruta',\n",
       "  'fresca',\n",
       "  'o',\n",
       "  'jugos',\n",
       "  'sin',\n",
       "  'azúcar',\n",
       "  'añadido,',\n",
       "  'es',\n",
       "  'crucial',\n",
       "  'para',\n",
       "  'responder',\n",
       "  'de',\n",
       "  'manera',\n",
       "  'efectiva',\n",
       "  'a',\n",
       "  'cualquier',\n",
       "  'signo',\n",
       "  'de',\n",
       "  'hipoglucemia.']]"
      ]
     },
     "execution_count": 6,
     "metadata": {},
     "output_type": "execute_result"
    }
   ],
   "source": [
    "observaciones_tokenizadas"
   ]
  },
  {
   "cell_type": "code",
   "execution_count": 7,
   "metadata": {},
   "outputs": [
    {
     "data": {
      "text/plain": [
       "'El paciente ha experimentado mejoras en el control glucémico bajo tratamiento con Metformina, lo cual se ha complementado con una dieta enfocada en la reducción de carbohidratos refinados. La evitación de pan blanco y dulces, junto con la preferencia por carbohidratos complejos como la avena, quinoa y legumbres, son cruciales para potenciar los efectos beneficiosos de la Metformina y mantener una estabilidad en los niveles de glucosa en sangre.'"
      ]
     },
     "execution_count": 7,
     "metadata": {},
     "output_type": "execute_result"
    }
   ],
   "source": [
    "df['observaciones'][0]"
   ]
  },
  {
   "cell_type": "code",
   "execution_count": 8,
   "metadata": {},
   "outputs": [],
   "source": [
    "output0_esperado_alimentacion={\"dieta\":\"reducción de carbohidratos refinados\",\n",
    "                              \"evitar\":[\"pan blanco\",\"dulces\"],\n",
    "                              \"consumir\":[\"carbohidratos complejos\",\"avena\",\"quinoa\",\"legumbres\"]}"
   ]
  },
  {
   "cell_type": "code",
   "execution_count": 9,
   "metadata": {},
   "outputs": [
    {
     "data": {
      "text/plain": [
       "'Con el régimen de insulina basal-bolo, es vital el conteo preciso de carbohidratos para ajustar adecuadamente las dosis de insulina prandial. La alimentación debe enfocarse en evitar el consumo irregular de carbohidratos y planificar comidas equilibradas, reduciendo la ingesta de alimentos altos en azúcares simples para evitar desequilibrios glucémicos.'"
      ]
     },
     "execution_count": 9,
     "metadata": {},
     "output_type": "execute_result"
    }
   ],
   "source": [
    "df['observaciones'][1]"
   ]
  },
  {
   "cell_type": "code",
   "execution_count": 10,
   "metadata": {},
   "outputs": [],
   "source": [
    "output1_esperado_alimentacion={\"dieta\":\"\",\n",
    "                               \"eviatr\":[\"consumo irregular de carbohidratos\",\"alimentos altos en azúcares simples\"],\n",
    "                               \"consumir\":\"\"}"
   ]
  },
  {
   "cell_type": "code",
   "execution_count": 11,
   "metadata": {},
   "outputs": [
    {
     "data": {
      "text/plain": [
       "'La efectividad del tratamiento con inhibidores de SGLT2 se ve reforzada por mantener una hidratación adecuada, dada la tendencia a la deshidratación asociada con estos medicamentos. Se enfatiza la importancia de beber suficiente agua y limitar el consumo de bebidas azucaradas para apoyar el control glucémico y la salud renal.'"
      ]
     },
     "execution_count": 11,
     "metadata": {},
     "output_type": "execute_result"
    }
   ],
   "source": [
    "df['observaciones'][2]"
   ]
  },
  {
   "cell_type": "code",
   "execution_count": 12,
   "metadata": {},
   "outputs": [],
   "source": [
    "output2_esperado_alimentacion={\"dieta\":\"\",\n",
    "                               \"evitar\":[\"bebidas azucaradas\"],\n",
    "                               \"consumir\":[\"hidratación adecuada\"]}"
   ]
  },
  {
   "cell_type": "code",
   "execution_count": 13,
   "metadata": {},
   "outputs": [
    {
     "data": {
      "text/plain": [
       "'El tratamiento con agonistas de GLP-1, que mejora el apetito y promueve la pérdida de peso, se optimiza con una dieta baja en grasas saturadas. Se recomienda incluir alimentos como el aceite de oliva, aguacates y frutos secos, que aportan grasas saludables y contribuyen a un mejor manejo metabólico.'"
      ]
     },
     "execution_count": 13,
     "metadata": {},
     "output_type": "execute_result"
    }
   ],
   "source": [
    "df['observaciones'][3]"
   ]
  },
  {
   "cell_type": "code",
   "execution_count": 14,
   "metadata": {},
   "outputs": [],
   "source": [
    "output3_esperado_alimentacion={\"dieta\":\"baja en grasas saturadas\",\n",
    "                               \"evitar\":[],\n",
    "                               \"consumir\":[\"aceite de oliva\",\"aguacates\",\"frutos secos\"]}"
   ]
  },
  {
   "cell_type": "code",
   "execution_count": 15,
   "metadata": {},
   "outputs": [
    {
     "data": {
      "text/plain": [
       "'Al estar en tratamiento con Dapagliflozina, se incrementa el riesgo de infecciones genitourinarias, lo cual se puede manejar con una dieta rica en líquidos y un consumo moderado de azúcares y carbohidratos. Esta estrategia dietética ayuda a minimizar el riesgo de infecciones y apoya la eficacia del medicamento.'"
      ]
     },
     "execution_count": 15,
     "metadata": {},
     "output_type": "execute_result"
    }
   ],
   "source": [
    "df['observaciones'][4]"
   ]
  },
  {
   "cell_type": "code",
   "execution_count": 16,
   "metadata": {},
   "outputs": [],
   "source": [
    "output4_esperado_alimentacion=[\"dieta rica en líquidos\",\n",
    "                               \"consumo moderado de azúcares y carbohidratos\"]\n"
   ]
  },
  {
   "cell_type": "code",
   "execution_count": 17,
   "metadata": {},
   "outputs": [
    {
     "data": {
      "text/plain": [
       "'La asociación del tratamiento con Pioglitazona con el aumento de peso resalta la necesidad de una dieta equilibrada y baja en calorías. Evitar alimentos procesados y bebidas azucaradas es fundamental para controlar el aumento de peso y mantener un perfil glucémico estable.'"
      ]
     },
     "execution_count": 17,
     "metadata": {},
     "output_type": "execute_result"
    }
   ],
   "source": [
    "df['observaciones'][5]"
   ]
  },
  {
   "cell_type": "code",
   "execution_count": 18,
   "metadata": {},
   "outputs": [],
   "source": [
    "output5_esperado_alimentacion=[\"dieta equilibrada y baja en calorías\",\n",
    "                               \"Evitar alimentos procesados y bebidas azucaradas\"]\n"
   ]
  },
  {
   "cell_type": "code",
   "execution_count": 19,
   "metadata": {},
   "outputs": [
    {
     "data": {
      "text/plain": [
       "'La estabilidad en los niveles de glucosa lograda con los inhibidores de la DPP-4 se complementa con una dieta rica en fibra y baja en carbohidratos simples. Incrementar la ingesta de vegetales, especialmente los de hoja verde, es beneficioso para el control glucémico y la salud general.'"
      ]
     },
     "execution_count": 19,
     "metadata": {},
     "output_type": "execute_result"
    }
   ],
   "source": [
    "df['observaciones'][6]"
   ]
  },
  {
   "cell_type": "code",
   "execution_count": 20,
   "metadata": {},
   "outputs": [],
   "source": [
    "output6_esperado_alimentacion=[\"dieta rica en fibra y baja en carbohidratos simples\",\n",
    "                               \"Incrementar la ingesta de vegetales, especialmente los de hoja verde\"]\n"
   ]
  },
  {
   "cell_type": "code",
   "execution_count": 21,
   "metadata": {},
   "outputs": [
    {
     "data": {
      "text/plain": [
       "'La necesidad de ajustar la dosis de insulina en días de actividad física intensa subraya la importancia de consumir snacks ricos en carbohidratos complejos antes del ejercicio. Esto ayuda a prevenir hipoglucemias y asegura un suministro energético adecuado durante la actividad física.'"
      ]
     },
     "execution_count": 21,
     "metadata": {},
     "output_type": "execute_result"
    }
   ],
   "source": [
    "df['observaciones'][7]"
   ]
  },
  {
   "cell_type": "code",
   "execution_count": 22,
   "metadata": {},
   "outputs": [],
   "source": [
    "output7_esperado_alimentacion=[\"consumir snacks ricos en carbohidratos complejos antes del ejercicio\"]\n"
   ]
  },
  {
   "cell_type": "code",
   "execution_count": 23,
   "metadata": {},
   "outputs": [
    {
     "data": {
      "text/plain": [
       "'Con el tratamiento de Repaglinida, es esencial no omitir comidas para evitar hipoglucemias. Adoptar un plan de alimentación estructurado que incluya snacks saludables entre comidas asegura la estabilidad glucémica y apoya la eficacia del tratamiento.'"
      ]
     },
     "execution_count": 23,
     "metadata": {},
     "output_type": "execute_result"
    }
   ],
   "source": [
    "df['observaciones'][8]"
   ]
  },
  {
   "cell_type": "code",
   "execution_count": 24,
   "metadata": {},
   "outputs": [],
   "source": [
    "output8_esperado_alimentacion=[\"incluya snacks saludables entre comidas\"]\n"
   ]
  },
  {
   "cell_type": "code",
   "execution_count": 25,
   "metadata": {},
   "outputs": [
    {
     "data": {
      "text/plain": [
       "'El tratamiento con Sulfonylureas exige una vigilancia constante de los síntomas de hipoglucemia. Disponer de snacks rápidos y saludables ricos en glucosa, como fruta fresca o jugos sin azúcar añadido, es crucial para responder de manera efectiva a cualquier signo de hipoglucemia.'"
      ]
     },
     "execution_count": 25,
     "metadata": {},
     "output_type": "execute_result"
    }
   ],
   "source": [
    "df['observaciones'][9]"
   ]
  },
  {
   "cell_type": "code",
   "execution_count": 26,
   "metadata": {},
   "outputs": [],
   "source": [
    "output9_esperado_alimentacion=[\"snacks rápidos y saludables ricos en glucosa, como fruta fresca o jugos sin azúcar añadido\"]\n"
   ]
  },
  {
   "cell_type": "code",
   "execution_count": 27,
   "metadata": {},
   "outputs": [
    {
     "data": {
      "text/plain": [
       "['snacks rápidos y saludables ricos en glucosa, como fruta fresca o jugos sin azúcar añadido']"
      ]
     },
     "execution_count": 27,
     "metadata": {},
     "output_type": "execute_result"
    }
   ],
   "source": [
    "output0_esperado_alimentacion\n",
    "output1_esperado_alimentacion\n",
    "output2_esperado_alimentacion\n",
    "output3_esperado_alimentacion\n",
    "output4_esperado_alimentacion\n",
    "output5_esperado_alimentacion\n",
    "output6_esperado_alimentacion\n",
    "output7_esperado_alimentacion\n",
    "output8_esperado_alimentacion\n",
    "output9_esperado_alimentacion"
   ]
  },
  {
   "cell_type": "code",
   "execution_count": 28,
   "metadata": {},
   "outputs": [],
   "source": [
    "# Cargamos los NOMBRES de los paths\n",
    "vocab_path='./../../archivos/vocab.json'\n",
    "\n",
    "# Cargamos los NOMBRES de las variables\n",
    "with open(vocab_path, 'r') as archivo:\n",
    "    vocab = json.load(archivo)"
   ]
  },
  {
   "cell_type": "code",
   "execution_count": 29,
   "metadata": {},
   "outputs": [],
   "source": [
    "todos_los_alimentos = [item for sublist in vocab.values() for item in sublist]"
   ]
  },
  {
   "cell_type": "code",
   "execution_count": 30,
   "metadata": {},
   "outputs": [],
   "source": [
    "import re\n",
    "\n",
    "texto = df['observaciones'][0].lower()\n",
    "palabras = re.split(r'[ ,.;]+', texto)\n",
    "\n",
    "alimentos_encontrados = []\n",
    "i = 0\n",
    "while i < len(palabras):\n",
    "    max_longitud = 0\n",
    "    alimento_a_agregar = ''\n",
    "    for alimento in todos_los_alimentos:\n",
    "        alimento_partes = re.split(r'[ ,.;]+', alimento.lower())\n",
    "        longitud = len(alimento_partes)\n",
    "        # Comprobar si la secuencia de palabras coincide con algún alimento\n",
    "        if palabras[i:i+longitud] == alimento_partes and longitud > max_longitud:\n",
    "            # Guardar el alimento más largo que coincide\n",
    "            alimento_a_agregar = ' '.join(palabras[i:i+longitud])\n",
    "            max_longitud = longitud\n",
    "\n",
    "    if max_longitud > 0:\n",
    "        alimentos_encontrados.append(alimento_a_agregar)\n",
    "        i += max_longitud  # Ajustar el índice según la longitud del alimento encontrado más largo\n",
    "    else:\n",
    "        i += 1\n"
   ]
  },
  {
   "cell_type": "code",
   "execution_count": 31,
   "metadata": {},
   "outputs": [
    {
     "data": {
      "text/plain": [
       "['carbohidratos refinados',\n",
       " 'pan blanco',\n",
       " 'carbohidratos complejos',\n",
       " 'avena',\n",
       " 'quinoa',\n",
       " 'legumbres']"
      ]
     },
     "execution_count": 31,
     "metadata": {},
     "output_type": "execute_result"
    }
   ],
   "source": [
    "alimentos_encontrados"
   ]
  },
  {
   "cell_type": "code",
   "execution_count": 32,
   "metadata": {},
   "outputs": [],
   "source": [
    "import json\n",
    "\n",
    "def obtener_lista_todos_los_alimentos(vocab_path='./../../archivos/vocab.json'):\n",
    "    # Cargamos los NOMBRES de las variables\n",
    "    with open(vocab_path, 'r') as archivo:\n",
    "        vocab = json.load(archivo)\n",
    "    todos_los_alimentos = [item for sublist in vocab.values() for item in sublist]\n",
    "    return todos_los_alimentos"
   ]
  },
  {
   "cell_type": "code",
   "execution_count": 33,
   "metadata": {},
   "outputs": [],
   "source": [
    "import re\n",
    "\n",
    "def encontrar_alimentos(texto_entrada,todos_los_alimentos):\n",
    "    texto = texto_entrada.lower()\n",
    "    palabras = re.split(r'[ ,.;]+', texto)\n",
    "    alimentos_encontrados = []\n",
    "    i = 0\n",
    "    while i < len(palabras):\n",
    "        max_longitud = 0\n",
    "        alimento_a_agregar = ''\n",
    "        for alimento in todos_los_alimentos:\n",
    "            alimento_partes = re.split(r'[ ,.;]+',alimento.lower())\n",
    "            longitud = len(alimento_partes)\n",
    "            # Comprobar si la secuencia de palabras coincide con algún alimento\n",
    "            if palabras[i:i+longitud] == alimento_partes and longitud > max_longitud:\n",
    "                # Guardar el alimento más largo que coincide\n",
    "                alimento_a_agregar = ' '.join(palabras[i:i+longitud])\n",
    "                max_longitud = longitud\n",
    "        if max_longitud > 0:\n",
    "            alimentos_encontrados.append(alimento_a_agregar)\n",
    "            i += max_longitud  # Ajustar el índice según la longitud del alimento encontrado más largo\n",
    "        else:\n",
    "            i += 1\n",
    "    return alimentos_encontrados"
   ]
  },
  {
   "cell_type": "code",
   "execution_count": 34,
   "metadata": {},
   "outputs": [
    {
     "data": {
      "text/plain": [
       "['carbohidratos refinados',\n",
       " 'pan blanco',\n",
       " 'carbohidratos complejos',\n",
       " 'avena',\n",
       " 'quinoa',\n",
       " 'legumbres']"
      ]
     },
     "execution_count": 34,
     "metadata": {},
     "output_type": "execute_result"
    }
   ],
   "source": [
    "todos_los_alimentos=obtener_lista_todos_los_alimentos()\n",
    "texto_entrada = df['observaciones'][0]\n",
    "encontrar_alimentos(texto_entrada,todos_los_alimentos)"
   ]
  },
  {
   "cell_type": "code",
   "execution_count": 35,
   "metadata": {},
   "outputs": [],
   "source": [
    "alimentos=['carbohidratos refinados',\n",
    " 'pan blanco',\n",
    " 'carbohidratos complejos',\n",
    " 'avena',\n",
    " 'quinoa',\n",
    " 'legumbres']\n"
   ]
  },
  {
   "cell_type": "code",
   "execution_count": 36,
   "metadata": {},
   "outputs": [
    {
     "data": {
      "text/plain": [
       "str"
      ]
     },
     "execution_count": 36,
     "metadata": {},
     "output_type": "execute_result"
    }
   ],
   "source": [
    "alimentos_string = ', '.join(alimentos)\n",
    "\n",
    "type(alimentos_string)"
   ]
  },
  {
   "cell_type": "code",
   "execution_count": null,
   "metadata": {},
   "outputs": [],
   "source": [
    "documents = nombres_lista\n",
    "\n",
    "vectorizer = TfidfVectorizer()\n",
    "X = vectorizer.fit_transform([preprocess_text(doc) for doc in documents])\n",
    "\n",
    "from sklearn.cluster import DBSCAN\n",
    "\n",
    "# Aplicar DBSCAN\n",
    "dbscan = DBSCAN(eps=1.25, min_samples=2)\n",
    "clusters = dbscan.fit_predict(X)\n"
   ]
  },
  {
   "cell_type": "code",
   "execution_count": null,
   "metadata": {},
   "outputs": [],
   "source": [
    "import numpy as np\n",
    "\n",
    "# Número de clusters (excluyendo el ruido)\n",
    "n_clusters_ = len(set(clusters)) - (1 if -1 in clusters else 0)\n",
    "n_noise_ = list(clusters).count(-1)\n",
    "\n",
    "print(f'Número estimado de clusters: {n_clusters_}')\n",
    "print(f'Número estimado de puntos de ruido: {n_noise_}')\n",
    "\n",
    "# Ejemplo para imprimir los documentos de un cluster específico\n",
    "for cluster_id in np.unique(clusters):\n",
    "    if cluster_id == -1:\n",
    "        # Saltar el ruido\n",
    "        continue\n",
    "    print(f\"\\nCluster {cluster_id}\")\n",
    "    for i, label in enumerate(clusters):\n",
    "        if label == cluster_id:\n",
    "            print(f\" - {documents[i]}\")\n"
   ]
  }
 ],
 "metadata": {
  "kernelspec": {
   "display_name": "Python 3",
   "language": "python",
   "name": "python3"
  },
  "language_info": {
   "codemirror_mode": {
    "name": "ipython",
    "version": 3
   },
   "file_extension": ".py",
   "mimetype": "text/x-python",
   "name": "python",
   "nbconvert_exporter": "python",
   "pygments_lexer": "ipython3",
   "version": "3.8.17"
  }
 },
 "nbformat": 4,
 "nbformat_minor": 2
}
