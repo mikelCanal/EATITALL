{
 "cells": [
  {
   "cell_type": "code",
   "execution_count": 40,
   "metadata": {},
   "outputs": [],
   "source": [
    "import sys\n",
    "sys.path.insert(1, '/home/eatitall_scripts')\n",
    "sys.path.insert(1, '/home/root/pctobs/lib/python3.8/site-packages')\n",
    "import pandas as pd\n",
    "import numpy as np\n",
    "from sklearn.model_selection import train_test_split\n",
    "from sklearn.linear_model import LinearRegression\n",
    "from sklearn.metrics import mean_squared_error, r2_score\n",
    "from extraccion_informacion.clustering import clustering"
   ]
  },
  {
   "cell_type": "code",
   "execution_count": 30,
   "metadata": {},
   "outputs": [],
   "source": [
    "# Cargamos el archivo CSV\n",
    "csv_path='./../../archivos/datos_con_10_ejemplos_reglas_y_extraccion_entidades_v2.csv'\n",
    "df = pd.read_csv(csv_path)"
   ]
  },
  {
   "cell_type": "code",
   "execution_count": 31,
   "metadata": {},
   "outputs": [
    {
     "name": "stdout",
     "output_type": "stream",
     "text": [
      "Se han eliminado las siguientes columnas:  ['record_id', 'f_nac', 'f_dm', 'f_inicio', 'o_hipolipemiante', 'f_visita_3_6meses', 'motivo_s_3_6meses', 'f_mace_d_3_6meses', 'f_muerte_diferido_3_6meses', 'observaciones_v1', 'observaciones_v2']\n"
     ]
    }
   ],
   "source": [
    "df=clustering.manage_string_values(df)"
   ]
  },
  {
   "cell_type": "code",
   "execution_count": 35,
   "metadata": {},
   "outputs": [
    {
     "name": "stdout",
     "output_type": "stream",
     "text": [
      "Hay valores NaN en el DataFrame.\n",
      "\n",
      "Número de NaN por columna:\n",
      "ins_cardiaca         3\n",
      "ldl                  1\n",
      "tg                   1\n",
      "cac                  4\n",
      "inferior_cac         3\n",
      "                    ..\n",
      "hba1cpeso12mejor    10\n",
      "HbA1c1257           10\n",
      "HbA1c1265           10\n",
      "HbA1c127            10\n",
      "imc                  1\n",
      "Length: 259, dtype: int64\n",
      "\n",
      "Columnas que contienen NaNs: ['ins_cardiaca', 'ldl', 'tg', 'cac', 'inferior_cac', 'prot', 'plaquetas', 'got', 'gpt', 'fib4', 'talla', 'peso', 'tas', 'tad', 't_glp1', 't_insulina', 's_insulina', 't_isglt2', 't_hipolipemiante', 'c_hipolipemiante', 'c_tto_hipo', 'imci', 'isglt2_b', 'insulina_b', 'estatina_b', 'peso_3_6meses', 's_tto_3_6meses', 'motivo_3_6meses', 'dosis_3_6meses', 'hba1c_3_6meses', 'cac_3_6meses', 'inferior_cac_3_6meses', 'prot_3_6meses', 'fg_3_6meses', 'supera_fg_3_6meses', 'ldl_3_6meses', 'tg_3_6meses', 'plaquetas_3_6meses', 'got_3_6meses', 'gpt_3_6meses', 'fib4_3_6meses', 'peso_s_3_6meses', 'imc_3_6meses', 'tas_3_6meses', 'tad_3_6meses', 's_insulina_3_6meses', 'isglt2_s_3_6meses', 'isglt2_a_3_6meses', 'estatina_3_6meses', 'c_hipo_3_6meses', 'f_mare_d_3_6meses', 'e_adversos_a_3_6meses', 'c_hba1c_3_6_meses', 'c_peso_3_6_meses', 'c_tad_3_6_meses', 'c_tas_3_6_meses', 'c_fg_3_6_meses', 'fg_30_3_6_meses', 'fg_60_3_6_meses', 'c_cac_3_6_meses', 'cac30_3_6_meses', 't_rybelsus_3_6_meses', 'peso_6_12meses', 'f_visita_6_12meses', 's_tto_6_12meses', 'motivo_6_12meses', 'motivo_s_6_12meses', 'dosis_6_12meses', 'hba1c_6_12meses', 'cac_6_12meses', 'inferior_cac_6_12meses', 'prot_6_12meses', 'fg_6_12meses', 'supera_fg_6_12meses', 'ldl_6_12meses', 'tg_6_12meses', 'plaquetas_6_12meses', 'got_6_12meses', 'gpt_6_12meses', 'fib4_6_12meses', 'peso_s_6_12meses', 'imc_6_12meses', 'tas_6_12meses', 'tad_6_12meses', 's_insulina_6_12meses', 'isglt2_s_6_12meses', 'isglt2_a_6_12meses', 'estatina_6_12meses', 'c_hipo_6_12meses', 'mace_6_12meses', 'f_mace_d_6_12meses', 'mare_6_12meses', 'f_mare_d_6_12meses', 'tto_activo_6_12meses', 'muerte_actualizacion_6_12meses', 'f_muerte_diferido_6_12meses', 'e_adversos_6_12meses', 'e_adversos_a_6_12meses', 'c_hba1c_6_12meses', 'c_peso_6_12meses', 'c_tad_6_12meses', 'c_tas_6_12meses', 'c_fg_6_12meses', 'fg_30_6_12meses', 'fg_60_6_12meses', 'c_cac_6_12meses', 'cac30_6_12meses', 'cac300_6_12meses', 't_rybelsus_6_12meses', 'peso_12_24meses', 'f_visita_12_24meses', 's_tto_12_24meses', 'motivo_12_24meses', 'motivo_s_12_24meses', 'dosis_12_24meses', 'hba1c_12_24meses', 'cac_12_24meses', 'inferior_cac_12_24meses', 'prot_12_24meses', 'fg_12_24meses', 'supera_fg_12_24meses', 'ldl_12_24meses', 'tg_12_24meses', 'plaquetas_12_24meses', 'got_12_24meses', 'gpt_12_24meses', 'fib4_12_24meses', 'peso_s_12_24meses', 'imc_12_24meses', 'tas_12_24meses', 'tad_12_24meses', 's_insulina_12_24meses', 'isglt2_s_12_24meses', 'isglt2_a_12_24meses', 'estatina_12_24meses', 'c_hipo_12_24meses', 'mace_12_24meses', 'f_mace_d_12_24meses', 'mare_12_24meses', 'f_mare_d_12_24meses', 'tto_activo_12_24meses', 'muerte_actualizacion_12_24meses', 'f_muerte_diferido_12_24meses', 'e_adversos_12_24meses', 'e_adversos_a_12_24meses', 'c_hba1c_12_24meses', 'c_peso_12_24meses', 'c_tad_12_24meses', 'c_tas_12_24meses', 'c_fg_12_24meses', 'fg_30_12_24meses', 'fg_60_12_24meses', 'c_cac_12_24meses', 'cac30_12_24meses', 'cac300_12_24meses', 't_rybelsus_12_24meses', 'peso_24_36meses', 'f_visita_24_36meses', 's_tto_24_36meses', 'motivo_24_36meses', 'motivo_s_24_36meses', 'dosis_24_36meses', 'hba1c_24_36meses', 'cac_24_36meses', 'inferior_cac_24_36meses', 'prot_24_36meses', 'fg_24_36meses', 'supera_fg_24_36meses', 'ldl_24_36meses', 'tg_24_36meses', 'plaquetas_24_36meses', 'got_24_36meses', 'gpt_24_36meses', 'fib4_24_36meses', 'peso_s_24_36meses', 'imc_24_36meses', 'tas_24_36meses', 'tad_24_36meses', 's_insulina_24_36meses', 'isglt2_s_24_36meses', 'isglt2_a_24_36meses', 'estatina_24_36meses', 'c_hipo_24_36meses', 'mace_24_36meses', 'f_mace_d_24_36meses', 'mare_24_36meses', 'f_mare_d_24_36meses', 'tto_activo_24_36meses', 'muerte_actualizacion_24_36meses', 'f_muerte_diferido_24_36meses', 'e_adversos_24_36meses', 'e_adversos_a_24_36meses', 'c_hba1c_24_36meses', 'c_peso_24_36meses', 'c_tad_24_36meses', 'c_tas_24_36meses', 'c_fg_24_36meses', 'fg_30_24_36meses', 'fg_60_24_36meses', 'c_cac_24_36meses', 'cac30_24_36meses', 'cac300_24_36meses', 't_rybelsus_24_36meses', 'porc_perdidapeso3m', 'porc_perdidapeso12m', 'combinado612meses', 'combinado3y6meses', 'hbA1yppeso5_3_6m', 'hbA1yppeso3_3_6m', 'hbA1yppeso5_12_24m', 'hbA1yppeso3_12_24m', 'fib4basalF01', 'fib4basalF2', 'fib4basalF34', 'fib4_3_6mesesF01', 'fib4_3_6mesesF2', 'fib4_3_6mesesF34', 'fib4_6_12mesesF01', 'fib4_6_12mesesF2', 'fib4_6_12mesesF34', 'fib4basaly6meses', 'fib4basaly12meses', 'cambiofib4_3_6meses', 'cambiofib4_6_12meses', 'persitencia3_6meses', 'endovscar', 'CACmas30basal', 'CACmas300basal', 'ERCcalculadabasal', 'ERCbasalglobal', 'filter_$', 'imc30', 'imc27medio', 'imc35', 'imc40', 'ppeso536', 'ppeso1036', 'ppeso10612', 'ppeso5612', 'chab1c136', 'chab1c1612', 'hbA1yppeso5_6_12m', 'hbA1yppeso3_6_12m', 'duracionsemacalculada36meses', 'duracionsema612meses', 'hba1c57', 'hba1c65', 'hba1c7', 'pesoentre10', 'hba1cmejor', 'peso3mejor', 'hba1cpeso3mejor', 'hba1c12mejor', 'peso12mejor', 'hba1cpeso12mejor', 'HbA1c1257', 'HbA1c1265', 'HbA1c127', 'imc']\n",
      "Se han convertido cada NaN en un -100\n"
     ]
    }
   ],
   "source": [
    "df=clustering.replace_nan_values(df)"
   ]
  },
  {
   "cell_type": "code",
   "execution_count": 36,
   "metadata": {},
   "outputs": [],
   "source": [
    "X = df.drop('edad', axis=1)  # Todas las columnas excepto la variable objetivo\n",
    "y = df['edad']  # Variable objetivo\n",
    "\n",
    "# Dividir los datos en conjunto de entrenamiento y prueba\n",
    "X_train, X_test, y_train, y_test = train_test_split(X, y, test_size=0.2, random_state=42)\n"
   ]
  },
  {
   "cell_type": "code",
   "execution_count": 37,
   "metadata": {},
   "outputs": [
    {
     "data": {
      "text/plain": [
       "LinearRegression()"
      ]
     },
     "execution_count": 37,
     "metadata": {},
     "output_type": "execute_result"
    }
   ],
   "source": [
    "model = LinearRegression()\n",
    "model.fit(X_train, y_train)\n"
   ]
  },
  {
   "cell_type": "code",
   "execution_count": 38,
   "metadata": {},
   "outputs": [
    {
     "name": "stdout",
     "output_type": "stream",
     "text": [
      "Coeficientes: [ 0.00101032 -0.00081471  0.00132541 ...  0.          0.\n",
      "  0.        ]\n",
      "Intercepto: 73.81260811405974\n",
      "Error cuadrático medio (MSE): 230.68086095009716\n",
      "Coeficiente de determinación (R^2): -0.6019504232645636\n"
     ]
    }
   ],
   "source": [
    "y_pred = model.coef_\n",
    "\n",
    "# Evaluar el modelo\n",
    "print(\"Coeficientes:\", model.coef_)\n",
    "print(\"Intercepto:\", model.intercept_)\n",
    "print(\"Error cuadrático medio (MSE):\", mean_squared_error(y_test, model.predict(X_test)))\n",
    "print(\"Coeficiente de determinación (R^2):\", r2_score(y_test, model.predict(X_test)))\n"
   ]
  },
  {
   "cell_type": "code",
   "execution_count": 39,
   "metadata": {},
   "outputs": [
    {
     "name": "stdout",
     "output_type": "stream",
     "text": [
      "                     coeficiente\n",
      "cac                     0.021337\n",
      "tas                     0.019900\n",
      "tad                     0.015372\n",
      "s_insulina_3_6meses     0.011221\n",
      "cac_3_6meses            0.010888\n",
      "...                          ...\n",
      "fg_60_3_6_meses        -0.007396\n",
      "peso                   -0.008932\n",
      "ldl                    -0.009262\n",
      "peso_s_3_6meses        -0.011903\n",
      "tg                     -0.014805\n",
      "\n",
      "[12514 rows x 1 columns]\n"
     ]
    }
   ],
   "source": [
    "# Mostrar la importancia de cada característica\n",
    "feature_importance = pd.DataFrame(model.coef_, X.columns, columns=['coeficiente'])\n",
    "print(feature_importance.sort_values(by='coeficiente', ascending=False))\n"
   ]
  }
 ],
 "metadata": {
  "kernelspec": {
   "display_name": "Python 3",
   "language": "python",
   "name": "python3"
  },
  "language_info": {
   "codemirror_mode": {
    "name": "ipython",
    "version": 3
   },
   "file_extension": ".py",
   "mimetype": "text/x-python",
   "name": "python",
   "nbconvert_exporter": "python",
   "pygments_lexer": "ipython3",
   "version": "3.8.17"
  }
 },
 "nbformat": 4,
 "nbformat_minor": 2
}
