{
 "cells": [
  {
   "cell_type": "code",
   "execution_count": 3,
   "metadata": {},
   "outputs": [],
   "source": [
    "import sys\n",
    "sys.path.insert(1, '/home/eatitall_scripts')\n",
    "sys.path.insert(1, '/home/root/pctobs/lib/python3.8/site-packages')\n",
    "import pandas as pd\n",
    "import json\n",
    "import re\n"
   ]
  },
  {
   "cell_type": "code",
   "execution_count": 2,
   "metadata": {},
   "outputs": [
    {
     "name": "stdout",
     "output_type": "stream",
     "text": [
      "Oraciones de indicaciones: ['Aumentar el consumo de frutas y verduras.']\n",
      "Oraciones de contraindicaciones: ['Eliminar de la dieta zumos de fruta industriales, bebidas refrescantes con azúcar, galletería, bollería, pastelería, dulces, azúcar de mesa, cereales de desayuno azucarados y sustituir por avena, muesli, pan integral, etc.']\n"
     ]
    }
   ],
   "source": [
    "# Cargar el vocabulario de alimentos desde un archivo JSON\n",
    "with open('../archivos/vocab_alimentos.json', 'r') as file:\n",
    "    vocabulario = json.load(file)\n",
    "\n",
    "def limpiar_frase(frase):\n",
    "    # Eliminar caracteres no deseados al inicio de la frase usando una expresión regular\n",
    "    # ^[^A-Za-z]+ significa \"al inicio de la cadena (^), cualquier carácter que no sea una letra ([^A-Za-z]+)\"\n",
    "    return re.sub(r'^[^A-Za-z]+', '', frase)\n",
    "\n",
    "def clasificar_oraciones(texto, frases_indicaciones, frases_contraindicaciones):\n",
    "    # Dividir el texto en frases para procesar cada recomendación por separado\n",
    "    frases = texto.split('\\n')\n",
    "    \n",
    "    # Listas para almacenar las oraciones de indicaciones y contraindicaciones\n",
    "    oraciones_indicaciones = []\n",
    "    oraciones_contraindicaciones = []\n",
    "    \n",
    "    # Procesar cada frase para clasificar\n",
    "    for frase in frases:\n",
    "        # Limpiar la frase antes de procesarla\n",
    "        frase_limpia = limpiar_frase(frase)\n",
    "        \n",
    "        # Determinar si la frase es de indicación o contraindicación\n",
    "        es_indicacion = any(frase_limpia.startswith(opcion) for opcion in frases_indicaciones)\n",
    "        es_contraindicacion = any(frase_limpia.startswith(opcion) for opcion in frases_contraindicaciones)\n",
    "\n",
    "        # Clasificar la frase según corresponda\n",
    "        if es_contraindicacion:\n",
    "            oraciones_contraindicaciones.append(frase_limpia)\n",
    "        elif es_indicacion:\n",
    "            oraciones_indicaciones.append(frase_limpia)\n",
    "    \n",
    "    # Devolver los resultados\n",
    "    return oraciones_indicaciones, oraciones_contraindicaciones\n",
    "\n",
    "# Ejemplo de uso\n",
    "texto = \"\"\"\n",
    "⁃Eliminar de la dieta zumos de fruta industriales, bebidas refrescantes con azúcar, galletería, bollería, pastelería, dulces, azúcar de mesa, cereales de desayuno azucarados y sustituir por avena, muesli, pan integral, etc.\n",
    "⁃Aumentar el consumo de frutas y verduras.\n",
    "\"\"\"\n",
    "\n",
    "# Definir las frases que indican indicaciones y contraindicaciones\n",
    "frases_indicaciones = [\"Aumentar el consumo de\"]\n",
    "frases_contraindicaciones = [\"Eliminar de la dieta\", \"sustituir por\"]\n",
    "\n",
    "oraciones_indicaciones, oraciones_contraindicaciones = clasificar_oraciones(texto, frases_indicaciones, frases_contraindicaciones)\n",
    "\n",
    "print(\"Oraciones de indicaciones:\", oraciones_indicaciones)\n",
    "print(\"Oraciones de contraindicaciones:\", oraciones_contraindicaciones)\n"
   ]
  },
  {
   "cell_type": "code",
   "execution_count": 5,
   "metadata": {},
   "outputs": [],
   "source": [
    "# Cargamos el archivo CSV\n",
    "csv_path='./../archivos/datos_con_10_ejemplos_reglas_y_extraccion_entidades_v2.csv'\n",
    "df = pd.read_csv(csv_path)"
   ]
  },
  {
   "cell_type": "code",
   "execution_count": 9,
   "metadata": {},
   "outputs": [
    {
     "data": {
      "text/plain": [
       "0    \\nMantener la reducción en el consumo de carbo...\n",
       "1    Ajustar la dieta baja en potasio según los niv...\n",
       "2    Adaptar la dieta controlada en hidratos de car...\n",
       "3    Revisar la ingesta proteica, asegurando que se...\n",
       "4    Modificar la dieta hipocalórica según los camb...\n",
       "5    \\nEvaluar el impacto de la dieta mediterránea ...\n",
       "6    Continuar promoviendo una dieta baja en grasas...\n",
       "7    Tras ajustar la dieta rica en potasio, monitor...\n",
       "8    Aumentar la variedad de fuentes de proteínas m...\n",
       "9    Introducir más alimentos fermentados ricos en ...\n",
       "Name: observaciones_v2, dtype: object"
      ]
     },
     "execution_count": 9,
     "metadata": {},
     "output_type": "execute_result"
    }
   ],
   "source": [
    "df['observaciones_v2']"
   ]
  }
 ],
 "metadata": {
  "kernelspec": {
   "display_name": "Python 3",
   "language": "python",
   "name": "python3"
  },
  "language_info": {
   "codemirror_mode": {
    "name": "ipython",
    "version": 3
   },
   "file_extension": ".py",
   "mimetype": "text/x-python",
   "name": "python",
   "nbconvert_exporter": "python",
   "pygments_lexer": "ipython3",
   "version": "3.8.17"
  }
 },
 "nbformat": 4,
 "nbformat_minor": 2
}
